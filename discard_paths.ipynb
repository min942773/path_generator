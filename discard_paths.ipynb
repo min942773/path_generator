{
 "metadata": {
  "language_info": {
   "codemirror_mode": {
    "name": "ipython",
    "version": 3
   },
   "file_extension": ".py",
   "mimetype": "text/x-python",
   "name": "python",
   "nbconvert_exporter": "python",
   "pygments_lexer": "ipython3",
   "version": "3.7.4-final"
  },
  "orig_nbformat": 2,
  "kernelspec": {
   "name": "python3",
   "display_name": "Python 3",
   "language": "python"
  }
 },
 "nbformat": 4,
 "nbformat_minor": 2,
 "cells": [
  {
   "cell_type": "code",
   "execution_count": 24,
   "metadata": {},
   "outputs": [],
   "source": [
    "import pickle5 as pickle\n",
    "\n",
    "path_embedding = '/home/minju/path_generator/commonsense-qa/path_embeddings/small_csqa/path_embedding.pickle'\n",
    "with open(path_embedding, 'rb') as f:\n",
    "    data = pickle.load(f)"
   ]
  },
  {
   "cell_type": "code",
   "execution_count": 2,
   "metadata": {},
   "outputs": [
    {
     "output_type": "execute_result",
     "data": {
      "text/plain": [
       "9741"
      ]
     },
     "metadata": {},
     "execution_count": 2
    }
   ],
   "source": [
    "len(data['train'])"
   ]
  },
  {
   "cell_type": "code",
   "execution_count": 3,
   "metadata": {},
   "outputs": [
    {
     "output_type": "execute_result",
     "data": {
      "text/plain": [
       "5"
      ]
     },
     "metadata": {},
     "execution_count": 3
    }
   ],
   "source": [
    "len(data['train'][0])"
   ]
  },
  {
   "cell_type": "code",
   "execution_count": 4,
   "metadata": {},
   "outputs": [
    {
     "output_type": "execute_result",
     "data": {
      "text/plain": [
       "5"
      ]
     },
     "metadata": {},
     "execution_count": 4
    }
   ],
   "source": [
    "len(data['train'][0][0])"
   ]
  },
  {
   "cell_type": "code",
   "execution_count": 5,
   "metadata": {},
   "outputs": [
    {
     "output_type": "execute_result",
     "data": {
      "text/plain": [
       "768"
      ]
     },
     "metadata": {},
     "execution_count": 5
    }
   ],
   "source": [
    "len(data['train'][0][0][0])"
   ]
  },
  {
   "cell_type": "code",
   "execution_count": 6,
   "metadata": {},
   "outputs": [],
   "source": [
    "# 모르는 path 일때 이걸 뱉음\n",
    "xxxxx = data['train'][9][1][4]"
   ]
  },
  {
   "cell_type": "code",
   "execution_count": 7,
   "metadata": {},
   "outputs": [
    {
     "output_type": "execute_result",
     "data": {
      "text/plain": [
       "tensor([ 4.2628e-01, -4.2204e-01, -1.1409e+00,  4.9062e-01, -2.7811e-01,\n",
       "         2.4344e-01, -2.1675e-01,  3.4046e-02,  3.0586e-01,  2.7978e-01,\n",
       "        -1.6498e-01, -2.0800e-01, -2.1647e-02, -2.2455e-01, -4.0841e-01,\n",
       "        -7.8654e-01, -6.4757e-02,  3.8431e-01,  2.5513e-01,  8.8241e-01,\n",
       "         9.6752e-02,  4.7779e-01,  3.1301e-01, -5.7917e-01, -5.0270e-01,\n",
       "         8.5986e-02, -6.7207e-02,  3.5982e-02,  3.0251e-01, -1.2977e-01,\n",
       "        -1.8983e-01,  3.2059e-01, -4.7035e-01,  2.3685e-01,  1.2001e-01,\n",
       "         2.8307e-01,  6.2461e+00, -2.0738e-01, -6.0874e-01,  1.1020e+00,\n",
       "        -9.1592e-01,  1.6172e-01, -1.7159e-01, -5.2230e-01, -4.2962e-01,\n",
       "         2.9666e-02, -4.4678e-01, -3.3752e-01,  7.3346e-01, -8.8767e-01,\n",
       "         1.4220e-01,  1.2152e-01, -1.1976e+00, -2.3673e-01, -3.6939e-01,\n",
       "         3.0887e-01, -4.6275e-01, -7.4750e-02, -1.5970e-02, -3.6371e-01,\n",
       "        -1.4861e-02,  2.5144e-01,  8.7036e-02,  5.5058e-01, -1.0127e+00,\n",
       "         1.6104e-01,  3.5418e-01, -4.6773e-01, -7.8562e-01,  2.3307e-01,\n",
       "         5.7455e-01,  1.8131e-04, -2.0331e-01,  5.2178e-01,  4.9748e-01,\n",
       "        -2.7692e-01, -3.6585e-01, -1.1224e+00,  6.0993e-01, -9.8563e-02,\n",
       "         6.1166e-01,  2.6440e-01,  9.9306e-02, -4.1923e-01, -1.9466e-01,\n",
       "         4.1871e-01, -7.1998e-02, -9.5807e-01,  2.2950e-01,  3.5570e-02,\n",
       "         2.6290e-02,  2.2760e-01, -4.2334e-01,  3.4774e-01, -2.6746e-01,\n",
       "         4.0747e-01,  7.0407e-01, -7.0291e-01,  4.1494e-01,  2.0432e-01,\n",
       "         2.1113e-01, -6.3404e-01,  2.6510e+00,  7.0448e-01,  1.8970e-01,\n",
       "        -4.0115e-01,  4.5372e-01,  6.9298e+00,  1.4783e-01, -1.2723e-01,\n",
       "         1.5726e-01,  6.0976e-01, -5.7649e-01, -3.0831e-01, -2.1984e-01,\n",
       "         1.4826e-01, -1.1965e-01,  1.5914e-01,  1.1837e-01, -7.4311e-01,\n",
       "        -4.6494e-02,  4.1536e-01,  4.6230e-01,  4.4708e-01,  9.4679e-02,\n",
       "         1.8720e-02,  6.4229e-01,  1.2271e-02, -1.8288e-01,  3.8617e-01,\n",
       "        -9.3332e-02,  1.5680e-01, -8.9871e-02, -2.6225e-01, -4.5964e-01,\n",
       "         1.9298e-01,  2.0644e-01, -1.3633e-01,  5.9674e-01,  4.6371e-01,\n",
       "         9.7777e-01,  3.2021e-01, -1.6579e+00, -2.4477e-01, -6.5817e-01,\n",
       "        -6.0608e-02,  9.3159e-02, -3.8093e-01,  2.9312e-01,  4.6646e-01,\n",
       "         5.8920e-01, -6.9750e-01, -2.2963e-01, -3.6985e-01, -7.0107e-03,\n",
       "         5.9163e-01, -3.9460e-01, -1.9332e-01,  6.8308e-01,  1.1568e-01,\n",
       "         1.1636e+00, -1.9043e-01, -4.4577e-01, -1.1667e-01, -5.5401e-01,\n",
       "        -9.0281e-01,  4.0984e-01,  1.2716e+00,  5.6325e-01, -9.2918e-02,\n",
       "        -3.3268e-01, -5.3519e-01, -2.7363e-01,  2.1841e-01, -4.3376e-01,\n",
       "        -3.4784e-01,  6.4518e-01, -1.0183e-01, -1.4907e-01, -6.3411e-01,\n",
       "         3.1549e-01,  1.9184e-01, -5.6471e-01, -4.9774e-02, -3.2986e-01,\n",
       "        -6.1897e-01,  6.4871e-01,  2.5664e-01,  4.5102e-01,  3.3563e-01,\n",
       "         1.1273e-02, -8.0999e-01, -4.7404e-01,  9.6919e-02,  5.9816e-01,\n",
       "         3.4740e-02,  1.3876e-01,  3.4241e-01,  4.9434e-01, -2.6473e-01,\n",
       "         3.0481e-01,  3.5198e-01, -6.5437e-01,  1.7702e-01, -2.2277e-01,\n",
       "         7.9761e-01,  1.2568e-01,  3.1317e-01, -2.2050e-01,  4.1765e-01,\n",
       "         3.4654e-01,  4.5454e-01, -2.8580e-01,  1.4827e+00,  2.3176e-01,\n",
       "         8.9852e-02,  3.4129e-01, -5.6485e-01, -4.5881e-02,  8.2020e-01,\n",
       "         6.0973e-01,  1.0624e+00,  2.3014e-01,  1.3578e-01,  4.6939e-01,\n",
       "         1.0310e-01, -1.3185e-01,  3.7143e-02, -2.5618e-01, -1.9016e-01,\n",
       "         4.0925e-01,  5.3458e-02,  1.0338e+00,  3.8947e-02,  1.3399e-01,\n",
       "        -4.1073e-01, -5.6665e-02, -5.6141e-02,  3.9237e-02,  4.8382e-01,\n",
       "         1.2588e-01,  2.0220e-01, -4.7805e-01, -4.6353e-01,  7.9969e-04,\n",
       "         2.6364e-01, -1.0614e-01,  2.9703e-01,  5.0777e-01, -1.3655e+00,\n",
       "        -9.0705e-01, -7.1841e-01, -6.4334e-01,  2.9191e-02,  4.3161e-01,\n",
       "        -1.5057e-01, -1.3958e-01,  2.6816e-01, -5.5563e-02, -1.0023e+00,\n",
       "         2.3343e-01, -3.0742e-01, -2.6384e-01,  3.1609e-01,  7.7189e-02,\n",
       "         1.7748e-01, -9.6573e-01, -8.6017e-02, -2.1668e-01, -1.2899e-01,\n",
       "         3.7487e-01,  1.3004e+00, -1.2639e-01,  7.4441e-01,  1.2994e+00,\n",
       "         5.1715e-01,  3.0876e-01, -3.8570e-01,  3.5427e-01,  4.8663e-01,\n",
       "         4.7358e-01,  4.1987e-01, -2.8595e-01, -1.6971e-01,  2.5105e-01,\n",
       "         1.4035e-01, -2.7993e-01, -7.0198e-01,  5.5462e-01,  1.1533e+00,\n",
       "        -8.9507e-01,  1.9631e-01,  4.3176e-01,  3.3179e-01, -2.4329e-01,\n",
       "         1.3616e-01,  4.1695e-01, -7.2203e-02, -6.8295e-01,  3.7480e-02,\n",
       "        -2.4814e-02, -3.0718e-01, -8.5526e-03,  1.1804e-01, -3.2750e-02,\n",
       "        -6.8152e-01, -2.3921e-02, -3.6507e-01,  1.9042e-01,  7.7772e-02,\n",
       "         9.3614e-02,  3.7094e-01, -3.5233e-03, -4.8951e-01,  1.6598e+01,\n",
       "         3.3442e-01,  5.6821e-01, -4.3300e-01,  5.3386e-03,  2.8700e-01,\n",
       "         6.9781e-02,  4.2659e-01,  4.2510e-02,  5.0230e-01,  6.6323e-01,\n",
       "         1.5341e-02,  5.9699e-01, -2.4277e-01, -1.9884e-01,  2.3594e-03,\n",
       "        -2.7924e-01, -4.7013e-01, -3.2190e-01, -5.8147e-01,  8.5298e-02,\n",
       "         3.4454e-01,  1.2231e-01, -2.8765e-01,  2.8549e-01, -5.6329e-01,\n",
       "         4.0258e-01,  3.1201e-01, -1.2808e-01, -1.0540e-02, -3.8409e-02,\n",
       "         1.5810e-01,  1.3902e-01, -8.8718e-02, -6.7002e-01, -4.9849e-01,\n",
       "        -3.6923e-02,  3.4964e-01,  1.0754e-01, -2.1889e-01, -1.4066e-01,\n",
       "         9.9163e-01,  9.2796e-01,  1.6114e-01, -2.0684e-01,  7.1820e-03,\n",
       "        -2.3371e-01, -4.5480e-01, -4.2594e-01,  4.2071e-01, -4.9576e-02,\n",
       "         5.5466e-01, -8.1189e-01,  2.0236e-01,  3.7555e-02,  4.4716e-01,\n",
       "         8.8918e-02, -2.5319e-01,  7.8235e-02, -1.0362e+00, -1.4386e+01,\n",
       "        -4.0609e-01, -2.6340e-01,  2.0325e-01,  4.5271e-01, -3.6100e-01,\n",
       "        -4.2925e-01, -3.4210e-01, -6.0560e-01,  2.9494e-01,  7.1642e-01,\n",
       "        -3.5476e-01,  2.3536e-01,  3.0565e-01, -1.3086e-01, -3.0759e-01,\n",
       "         3.5487e-01, -2.8291e-01,  1.7137e-01,  1.8988e-02, -7.5872e-01,\n",
       "        -7.1000e-03, -4.2160e-02, -7.3522e-01, -4.9935e-01,  3.3764e-01,\n",
       "        -9.9988e-02,  2.2126e-01,  3.6620e-01, -8.3877e-03,  2.4749e-01,\n",
       "        -4.5699e-01,  4.3700e-01, -7.6017e-01,  1.1757e+00, -3.1177e-01,\n",
       "        -8.2731e-02, -6.9654e-01,  2.5927e-01, -9.6543e-02,  6.5513e-01,\n",
       "        -3.2882e-01,  7.6929e-01,  2.9511e-01,  5.3763e-02, -3.3863e-02,\n",
       "         7.1713e-01,  1.7991e-01, -5.4438e-02, -3.3770e-01,  1.1405e-01,\n",
       "        -5.1738e-01,  4.2094e-01,  3.1681e-02, -1.7514e-01, -6.4096e-02,\n",
       "         1.1575e+01,  2.4885e-01,  2.9429e-01,  5.3208e-01,  9.9928e-02,\n",
       "         5.5144e-01, -7.2429e-01,  1.9977e-01,  1.2993e+00,  1.5800e+00,\n",
       "        -8.0694e-01,  5.1451e-02,  1.6978e+01, -3.0037e-01,  2.8476e-01,\n",
       "         2.1649e-01,  4.4436e-01,  8.7163e-01,  2.6023e-01, -4.4695e-01,\n",
       "         5.1228e-01, -1.0925e-01, -2.1355e-01,  6.4929e-02, -1.4766e-01,\n",
       "         1.1809e+00, -1.1311e+00,  4.8391e-01, -6.4695e-02, -1.5791e-01,\n",
       "        -4.7005e-02,  7.9303e-02, -4.8852e-01, -2.9032e-02,  3.0558e-03,\n",
       "         6.9791e-01,  2.1550e-01, -5.2578e-01,  5.6738e-01,  6.4932e-01,\n",
       "         1.4166e-01,  5.0427e-01,  3.1193e-01,  4.8085e-02, -1.0119e-01,\n",
       "        -5.4203e-02,  9.9021e-02, -1.1251e-01, -5.5977e-01, -1.2818e+01,\n",
       "        -8.2906e-01,  1.0755e+00,  3.6490e-01,  5.5188e-01, -5.9863e-01,\n",
       "         5.8172e-01,  6.0158e-02, -5.6964e-02,  1.3461e-01,  6.8391e-01,\n",
       "         2.6194e-01, -7.4867e-01, -6.1651e-01, -3.7763e-01,  1.4545e-01,\n",
       "         1.6202e-01,  2.5868e+00,  2.6601e-01, -1.0075e-01,  7.4370e-02,\n",
       "        -5.5295e-01, -1.8365e-01,  2.6550e-01,  1.4591e+00,  3.5411e-01,\n",
       "         4.0052e-01,  5.5207e-02,  9.7183e-02,  1.2834e-01,  2.5732e-01,\n",
       "         1.1993e-01, -1.0764e+00, -2.9587e-01,  1.9571e-01,  6.4344e-01,\n",
       "         7.7493e-01,  1.7895e-01,  5.1395e-02,  1.8910e-01,  1.2579e-01,\n",
       "         6.5009e-02, -5.4755e-01,  1.0034e+00, -3.7081e-01,  8.3775e-02,\n",
       "         6.3417e-01,  3.4302e-02, -4.5883e-01, -2.5797e-01,  3.3047e-01,\n",
       "        -1.1537e-01,  2.6621e-01, -4.9468e-01, -6.7291e-01, -8.2157e-02,\n",
       "        -3.2759e-02, -1.8367e-01,  3.3130e-01,  3.2823e-01, -3.6274e-01,\n",
       "         8.2066e-01, -6.5065e-02,  6.8354e-02, -2.2386e+00, -1.0251e+00,\n",
       "        -4.1786e-01, -1.3672e-01,  1.0088e+00, -4.2617e-02,  1.9659e-01,\n",
       "        -3.5540e-01, -6.5898e-01, -4.1221e-01, -1.1693e-01, -2.0379e+00,\n",
       "         5.9079e-01, -1.6256e-01, -6.8978e-02,  5.6839e-02, -6.6845e-01,\n",
       "        -2.1622e-01, -1.0833e-01, -9.0864e-02, -2.3896e-02,  3.5197e-01,\n",
       "         1.9344e-01,  1.2823e-01,  8.7198e-02, -1.1458e-01,  5.3930e-02,\n",
       "        -2.6477e-01,  7.2739e-02,  1.7897e-01, -1.4586e-01, -1.4430e-01,\n",
       "         3.4232e-01,  6.4119e-01,  8.2482e-03, -3.3613e-01,  6.5742e-01,\n",
       "         6.7731e-01, -1.0355e-01,  2.7243e-01,  2.5168e-01, -5.3330e-01,\n",
       "        -3.3699e-01,  3.2383e-01, -1.7621e-01, -5.1699e-01, -1.5809e-02,\n",
       "        -6.1058e-01,  3.8593e-01,  7.2085e-01,  5.1684e-01,  3.8660e-01,\n",
       "        -1.8818e-01, -3.2199e-01, -3.3482e-01, -2.3536e-01,  6.6897e-01,\n",
       "         1.7282e-01, -8.3675e-02, -2.7908e-01, -3.5338e-01,  6.3053e-02,\n",
       "        -1.1745e-01,  1.6810e-01,  2.4017e-01, -2.5659e-01, -4.1150e-01,\n",
       "         4.7042e-01, -5.6951e-01,  4.2111e-01,  2.7250e-01,  4.8009e-02,\n",
       "         7.1786e-01,  3.6884e-01,  1.0057e+00, -3.4518e-01, -3.1909e-01,\n",
       "         1.6604e-01,  1.5025e-01,  1.5558e-01,  4.2719e-01,  5.2339e-02,\n",
       "        -5.6145e-01,  5.0933e-02, -4.9574e-01,  7.2067e-01,  5.6926e-02,\n",
       "         2.7108e-01, -3.6983e-01, -7.0300e-01,  1.7514e-02,  2.9155e-01,\n",
       "         1.7041e-01, -2.5693e-01,  2.4498e-02, -3.0578e-02,  1.1946e-01,\n",
       "         1.2128e-01, -2.0103e-01,  4.7913e-01, -5.5851e-01,  7.9623e-01,\n",
       "         5.4367e-01,  2.0794e-01,  4.2066e-01, -2.1156e-01,  3.4685e-03,\n",
       "        -5.3230e-01, -8.0312e-02, -2.6738e-01, -1.7859e-01,  1.2047e-01,\n",
       "         1.7558e+00,  2.2317e-01,  5.3846e-02,  2.7810e-01,  6.2080e-02,\n",
       "        -1.2526e-01, -3.0993e-01, -2.3289e-02,  1.6176e-02, -7.4824e-02,\n",
       "         2.1174e-01, -6.9891e-01, -1.6510e-01,  4.7501e-01, -6.3889e-01,\n",
       "        -4.4193e-01, -5.0376e-01, -4.7719e-01, -2.3171e-01,  6.6136e-01,\n",
       "        -1.7023e-01,  8.3227e-02, -1.0165e-01,  1.8310e-01,  1.6429e+00,\n",
       "         1.7911e-01,  9.7394e-02,  2.7282e-01,  6.7331e-03,  2.2968e-01,\n",
       "        -4.8712e-01,  8.3399e-01,  2.0169e-01,  1.3708e-01,  1.0252e+00,\n",
       "         1.6570e-01, -2.0066e-01, -1.8506e-02,  3.9376e-01, -9.3575e-01,\n",
       "         9.7608e-01, -1.4821e-02,  2.3953e-01,  6.2904e-01,  2.1413e-01,\n",
       "        -2.4005e-01,  7.5413e-02, -3.0387e-01, -1.6407e+01, -2.6542e-01,\n",
       "        -4.1314e-01,  9.6121e-01,  6.1458e-02,  6.4935e-01,  2.0024e-02,\n",
       "        -4.1821e-01, -3.1256e-01,  2.4709e-01, -3.2181e-01,  2.3677e-02,\n",
       "        -3.3469e-01, -3.3632e-02, -4.8421e-01, -2.5586e-01,  1.9411e-01,\n",
       "         5.7119e-02, -4.9385e-01,  1.4301e-01,  3.3811e-02,  2.4277e-01,\n",
       "         1.9835e-01,  1.3962e-01, -1.1538e-01, -3.4094e-01,  5.4660e-02,\n",
       "        -2.9464e-01,  7.0232e-01, -1.8878e-01, -4.2597e-01, -9.2452e-02,\n",
       "         8.7702e-04,  2.7075e-01,  8.8983e-03, -8.9265e-01,  5.3888e-01,\n",
       "         7.4282e-03,  4.0375e-01,  8.8781e-01,  2.8885e-01,  2.2347e-01,\n",
       "         4.8297e-01,  2.3142e-01,  5.6630e-01, -1.4697e-01, -9.8066e-02,\n",
       "        -1.3442e-01, -2.8117e-01, -6.8575e-02, -9.5807e-01,  6.4410e-02,\n",
       "        -3.9268e-01, -6.5497e-01,  5.9609e-01, -3.6402e-01, -1.2536e-01,\n",
       "         5.4890e-01,  1.0216e-01,  1.7767e+00, -3.7099e-01, -1.7823e-01,\n",
       "         2.6088e-01,  2.0698e-01, -2.1578e-01])"
      ]
     },
     "metadata": {},
     "execution_count": 7
    }
   ],
   "source": [
    "xxxxx"
   ]
  },
  {
   "cell_type": "code",
   "execution_count": 8,
   "metadata": {},
   "outputs": [],
   "source": [
    "import json\n",
    "\n",
    "inhouse_test_path = \"/home/minju/path_generator/commonsense-qa/data/small_csqa/fairseq/inhouse/test.jsonl\"\n",
    "\n",
    "with open(inhouse_test_path, 'r') as fin:\n",
    "        inhouse_test = [json.loads(line) for line in fin]"
   ]
  },
  {
   "cell_type": "code",
   "execution_count": 9,
   "metadata": {},
   "outputs": [],
   "source": [
    "inhouse_test_id_list = []\n",
    "for i in range(len(inhouse_test)):\n",
    "    inhouse_test_id_list.append(inhouse_test[i]['id'])"
   ]
  },
  {
   "cell_type": "code",
   "execution_count": 10,
   "metadata": {},
   "outputs": [
    {
     "output_type": "execute_result",
     "data": {
      "text/plain": [
       "100"
      ]
     },
     "metadata": {},
     "execution_count": 10
    }
   ],
   "source": [
    "len(inhouse_test_id_list)"
   ]
  },
  {
   "cell_type": "code",
   "execution_count": 11,
   "metadata": {},
   "outputs": [],
   "source": [
    "train_path = '/home/minju/path_generator/commonsense-qa/data/small_csqa/train.jsonl'\n",
    "with open(train_path, 'r') as fin:\n",
    "        train = [json.loads(line) for line in fin]"
   ]
  },
  {
   "cell_type": "code",
   "execution_count": 12,
   "metadata": {},
   "outputs": [],
   "source": [
    "train_index_list = []\n",
    "for i in range(len(inhouse_test_id_list)):\n",
    "    for j in range(len(train)):\n",
    "        if inhouse_test_id_list[i] == train[j]['id']:\n",
    "            train_index_list.append(j)"
   ]
  },
  {
   "cell_type": "code",
   "execution_count": 13,
   "metadata": {},
   "outputs": [
    {
     "output_type": "execute_result",
     "data": {
      "text/plain": [
       "100"
      ]
     },
     "metadata": {},
     "execution_count": 13
    }
   ],
   "source": [
    "len(train_index_list)"
   ]
  },
  {
   "cell_type": "code",
   "execution_count": 14,
   "metadata": {},
   "outputs": [
    {
     "output_type": "execute_result",
     "data": {
      "text/plain": [
       "4"
      ]
     },
     "metadata": {},
     "execution_count": 14
    }
   ],
   "source": [
    "train_index_list[0]"
   ]
  },
  {
   "cell_type": "code",
   "execution_count": 25,
   "metadata": {},
   "outputs": [],
   "source": [
    "# generated_paths = '/home/minju/youngwookee/commonsense-qa/saved_models/generated_paths_all.txt'\n",
    "# f = open(generated_paths, 'r')\n",
    "# path_file = f.readlines()\n",
    "# f.close()"
   ]
  },
  {
   "cell_type": "code",
   "execution_count": 26,
   "metadata": {},
   "outputs": [],
   "source": [
    "# test_generated_paths = '/home/minju/youngwookee/commonsense-qa/saved_models/small_csqa/roberta-large_elr2e-6_dlr1e-3_d0.1_b16_s0/generated_inhouse_test_paths.txt'\n",
    "\n",
    "# test_path_list = []\n",
    "\n",
    "# f = open(test_generated_paths, 'a')\n",
    "# for i in range(len(train_index_list)):\n",
    "#     for j in range(len(path_file)):\n",
    "#         if str(path_file[j].split(' ')[0]) == str(train_index_list[i]):\n",
    "#             f.write(path_file[j])\n",
    "#             test_path_list.append(path_file[j])\n",
    "# f.close()"
   ]
  },
  {
   "cell_type": "code",
   "execution_count": 18,
   "metadata": {},
   "outputs": [],
   "source": [
    "def delete_index(str):\n",
    "    n1, n2, n3 = str.split(' ')\n",
    "    n1 = int(n1)\n",
    "    n2 = int(n2)\n",
    "    n3 = int(n3)\n",
    "    data['train'][n1][n2][n3] = xxxxx"
   ]
  },
  {
   "cell_type": "code",
   "execution_count": 32,
   "metadata": {},
   "outputs": [],
   "source": [
    "def input_index(str):\n",
    "    n1, n2, n3 = str.split(' ')\n",
    "    n1 = int(n1)\n",
    "    n2 = int(n2)\n",
    "    n3 = int(n3)\n",
    "    new_data['train'][n1][n2][n3] = data['train'][n1][n2][n3]"
   ]
  },
  {
   "cell_type": "code",
   "execution_count": 35,
   "metadata": {},
   "outputs": [],
   "source": [
    "wrong_paths = '/home/minju/path_generator/commonsense-qa/data/small_csqa/wrong_path_index.txt'\n",
    "f = open(wrong_paths, 'r')\n",
    "wrong_path_list = f.readlines()\n",
    "f.close()"
   ]
  },
  {
   "cell_type": "code",
   "execution_count": 21,
   "metadata": {},
   "outputs": [
    {
     "output_type": "execute_result",
     "data": {
      "text/plain": [
       "[4, 6, 25, 33, 46, 52, 62, 74, 91, 92]"
      ]
     },
     "metadata": {},
     "execution_count": 21
    }
   ],
   "source": [
    "train_index_list[:10]"
   ]
  },
  {
   "cell_type": "code",
   "execution_count": 25,
   "metadata": {},
   "outputs": [],
   "source": [
    "## only wrong index\n",
    "import copy\n",
    "\n",
    "new_data = copy.deepcopy(data)\n",
    "\n",
    "for i in range(len(train_index_list)):\n",
    "    for j in range(len(new_data['train'][0])):\n",
    "        for k in range(len(new_data['train'][0][0])):\n",
    "            new_data['train'][i][j][k] = xxxxx"
   ]
  },
  {
   "cell_type": "code",
   "execution_count": 37,
   "metadata": {},
   "outputs": [],
   "source": [
    "for i in range(len(wrong_path_list)):\n",
    "    input_index(wrong_path_list[i])\n",
    "    "
   ]
  },
  {
   "cell_type": "code",
   "execution_count": 20,
   "metadata": {},
   "outputs": [
    {
     "output_type": "execute_result",
     "data": {
      "text/plain": [
       "166"
      ]
     },
     "metadata": {},
     "execution_count": 20
    }
   ],
   "source": [
    "len(wrong_path_list)"
   ]
  },
  {
   "cell_type": "code",
   "execution_count": 6,
   "metadata": {
    "tags": [
     "outputPrepend"
    ]
   },
   "outputs": [
    {
     "output_type": "stream",
     "name": "stdout",
     "text": [
      "    True, True, True, True, True, True, True, True, True, True, True, True,\n",
      "        True, True, True, True, True, True, True, True, True, True, True, True,\n",
      "        True, True, True, True, True, True, True, True, True, True, True, True,\n",
      "        True, True, True, True, True, True, True, True, True, True, True, True,\n",
      "        True, True, True, True, True, True, True, True, True, True, True, True,\n",
      "        True, True, True, True, True, True, True, True, True, True, True, True,\n",
      "        True, True, True, True, True, True, True, True, True, True, True, True,\n",
      "        True, True, True, True, True, True, True, True, True, True, True, True,\n",
      "        True, True, True, True, True, True, True, True, True, True, True, True,\n",
      "        True, True, True, True, True, True, True, True, True, True, True, True,\n",
      "        True, True, True, True, True, True, True, True, True, True, True, True,\n",
      "        True, True, True, True, True, True, True, True, True, True, True, True,\n",
      "        True, True, True, True, True, True, True, True, True, True, True, True,\n",
      "        True, True, True, True, True, True, True, True, True, True, True, True,\n",
      "        True, True, True, True, True, True, True, True, True, True, True, True,\n",
      "        True, True, True, True, True, True, True, True, True, True, True, True,\n",
      "        True, True, True, True, True, True, True, True, True, True, True, True,\n",
      "        True, True, True, True, True, True, True, True, True, True, True, True,\n",
      "        True, True, True, True, True, True, True, True, True, True, True, True,\n",
      "        True, True, True, True, True, True, True, True, True, True, True, True,\n",
      "        True, True, True, True, True, True, True, True, True, True, True, True,\n",
      "        True, True, True, True, True, True, True, True, True, True, True, True,\n",
      "        True, True, True, True, True, True, True, True, True, True, True, True,\n",
      "        True, True, True, True, True, True, True, True, True, True, True, True,\n",
      "        True, True, True, True, True, True, True, True, True, True, True, True,\n",
      "        True, True, True, True, True, True, True, True, True, True, True, True,\n",
      "        True, True, True, True, True, True, True, True, True, True, True, True,\n",
      "        True, True, True, True, True, True, True, True, True, True, True, True,\n",
      "        True, True, True, True, True, True, True, True, True, True, True, True,\n",
      "        True, True, True, True, True, True, True, True, True, True, True, True,\n",
      "        True, True, True, True, True, True, True, True, True, True, True, True,\n",
      "        True, True, True, True, True, True, True, True, True, True, True, True,\n",
      "        True, True, True, True, True, True, True, True, True, True, True, True,\n",
      "        True, True, True, True, True, True, True, True, True, True, True, True,\n",
      "        True, True, True, True, True, True, True, True, True, True, True, True,\n",
      "        True, True, True, True, True, True, True, True, True, True, True, True,\n",
      "        True, True, True, True, True, True, True, True, True, True, True, True,\n",
      "        True, True, True, True, True, True, True, True, True, True, True, True,\n",
      "        True, True, True, True, True, True, True, True, True, True, True, True,\n",
      "        True, True, True, True, True, True, True, True, True, True, True, True,\n",
      "        True, True, True, True, True, True, True, True, True, True, True, True,\n",
      "        True, True, True, True, True, True, True, True, True, True, True, True,\n",
      "        True, True, True, True, True, True, True, True, True, True, True, True,\n",
      "        True, True, True, True, True, True, True, True, True, True, True, True,\n",
      "        True, True, True, True, True, True, True, True, True, True, True, True,\n",
      "        True, True, True, True, True, True, True, True, True, True, True, True,\n",
      "        True, True, True, True, True, True, True, True, True, True, True, True,\n",
      "        True, True, True, True, True, True, True, True, True, True, True, True,\n",
      "        True, True, True, True, True, True, True, True, True, True, True, True,\n",
      "        True, True, True, True, True, True, True, True, True, True, True, True,\n",
      "        True, True, True, True, True, True, True, True, True, True, True, True,\n",
      "        True, True, True, True, True, True, True, True, True, True, True, True,\n",
      "        True, True, True, True, True, True, True, True, True, True, True, True,\n",
      "        True, True, True, True, True, True, True, True, True, True, True, True,\n",
      "        True, True, True, True, True, True, True, True, True, True, True, True,\n",
      "        True, True, True, True, True, True, True, True, True, True, True, True,\n",
      "        True, True, True, True, True, True, True, True, True, True, True, True,\n",
      "        True, True, True, True, True, True, True, True, True, True, True, True])\n",
      "tensor([True, True, True, True, True, True, True, True, True, True, True, True,\n",
      "        True, True, True, True, True, True, True, True, True, True, True, True,\n",
      "        True, True, True, True, True, True, True, True, True, True, True, True,\n",
      "        True, True, True, True, True, True, True, True, True, True, True, True,\n",
      "        True, True, True, True, True, True, True, True, True, True, True, True,\n",
      "        True, True, True, True, True, True, True, True, True, True, True, True,\n",
      "        True, True, True, True, True, True, True, True, True, True, True, True,\n",
      "        True, True, True, True, True, True, True, True, True, True, True, True,\n",
      "        True, True, True, True, True, True, True, True, True, True, True, True,\n",
      "        True, True, True, True, True, True, True, True, True, True, True, True,\n",
      "        True, True, True, True, True, True, True, True, True, True, True, True,\n",
      "        True, True, True, True, True, True, True, True, True, True, True, True,\n",
      "        True, True, True, True, True, True, True, True, True, True, True, True,\n",
      "        True, True, True, True, True, True, True, True, True, True, True, True,\n",
      "        True, True, True, True, True, True, True, True, True, True, True, True,\n",
      "        True, True, True, True, True, True, True, True, True, True, True, True,\n",
      "        True, True, True, True, True, True, True, True, True, True, True, True,\n",
      "        True, True, True, True, True, True, True, True, True, True, True, True,\n",
      "        True, True, True, True, True, True, True, True, True, True, True, True,\n",
      "        True, True, True, True, True, True, True, True, True, True, True, True,\n",
      "        True, True, True, True, True, True, True, True, True, True, True, True,\n",
      "        True, True, True, True, True, True, True, True, True, True, True, True,\n",
      "        True, True, True, True, True, True, True, True, True, True, True, True,\n",
      "        True, True, True, True, True, True, True, True, True, True, True, True,\n",
      "        True, True, True, True, True, True, True, True, True, True, True, True,\n",
      "        True, True, True, True, True, True, True, True, True, True, True, True,\n",
      "        True, True, True, True, True, True, True, True, True, True, True, True,\n",
      "        True, True, True, True, True, True, True, True, True, True, True, True,\n",
      "        True, True, True, True, True, True, True, True, True, True, True, True,\n",
      "        True, True, True, True, True, True, True, True, True, True, True, True,\n",
      "        True, True, True, True, True, True, True, True, True, True, True, True,\n",
      "        True, True, True, True, True, True, True, True, True, True, True, True,\n",
      "        True, True, True, True, True, True, True, True, True, True, True, True,\n",
      "        True, True, True, True, True, True, True, True, True, True, True, True,\n",
      "        True, True, True, True, True, True, True, True, True, True, True, True,\n",
      "        True, True, True, True, True, True, True, True, True, True, True, True,\n",
      "        True, True, True, True, True, True, True, True, True, True, True, True,\n",
      "        True, True, True, True, True, True, True, True, True, True, True, True,\n",
      "        True, True, True, True, True, True, True, True, True, True, True, True,\n",
      "        True, True, True, True, True, True, True, True, True, True, True, True,\n",
      "        True, True, True, True, True, True, True, True, True, True, True, True,\n",
      "        True, True, True, True, True, True, True, True, True, True, True, True,\n",
      "        True, True, True, True, True, True, True, True, True, True, True, True,\n",
      "        True, True, True, True, True, True, True, True, True, True, True, True,\n",
      "        True, True, True, True, True, True, True, True, True, True, True, True,\n",
      "        True, True, True, True, True, True, True, True, True, True, True, True,\n",
      "        True, True, True, True, True, True, True, True, True, True, True, True,\n",
      "        True, True, True, True, True, True, True, True, True, True, True, True,\n",
      "        True, True, True, True, True, True, True, True, True, True, True, True,\n",
      "        True, True, True, True, True, True, True, True, True, True, True, True,\n",
      "        True, True, True, True, True, True, True, True, True, True, True, True,\n",
      "        True, True, True, True, True, True, True, True, True, True, True, True,\n",
      "        True, True, True, True, True, True, True, True, True, True, True, True,\n",
      "        True, True, True, True, True, True, True, True, True, True, True, True,\n",
      "        True, True, True, True, True, True, True, True, True, True, True, True,\n",
      "        True, True, True, True, True, True, True, True, True, True, True, True,\n",
      "        True, True, True, True, True, True, True, True, True, True, True, True,\n",
      "        True, True, True, True, True, True, True, True, True, True, True, True,\n",
      "        True, True, True, True, True, True, True, True, True, True, True, True,\n",
      "        True, True, True, True, True, True, True, True, True, True, True, True,\n",
      "        True, True, True, True, True, True, True, True, True, True, True, True,\n",
      "        True, True, True, True, True, True, True, True, True, True, True, True,\n",
      "        True, True, True, True, True, True, True, True, True, True, True, True,\n",
      "        True, True, True, True, True, True, True, True, True, True, True, True])\n",
      "tensor([True, True, True, True, True, True, True, True, True, True, True, True,\n",
      "        True, True, True, True, True, True, True, True, True, True, True, True,\n",
      "        True, True, True, True, True, True, True, True, True, True, True, True,\n",
      "        True, True, True, True, True, True, True, True, True, True, True, True,\n",
      "        True, True, True, True, True, True, True, True, True, True, True, True,\n",
      "        True, True, True, True, True, True, True, True, True, True, True, True,\n",
      "        True, True, True, True, True, True, True, True, True, True, True, True,\n",
      "        True, True, True, True, True, True, True, True, True, True, True, True,\n",
      "        True, True, True, True, True, True, True, True, True, True, True, True,\n",
      "        True, True, True, True, True, True, True, True, True, True, True, True,\n",
      "        True, True, True, True, True, True, True, True, True, True, True, True,\n",
      "        True, True, True, True, True, True, True, True, True, True, True, True,\n",
      "        True, True, True, True, True, True, True, True, True, True, True, True,\n",
      "        True, True, True, True, True, True, True, True, True, True, True, True,\n",
      "        True, True, True, True, True, True, True, True, True, True, True, True,\n",
      "        True, True, True, True, True, True, True, True, True, True, True, True,\n",
      "        True, True, True, True, True, True, True, True, True, True, True, True,\n",
      "        True, True, True, True, True, True, True, True, True, True, True, True,\n",
      "        True, True, True, True, True, True, True, True, True, True, True, True,\n",
      "        True, True, True, True, True, True, True, True, True, True, True, True,\n",
      "        True, True, True, True, True, True, True, True, True, True, True, True,\n",
      "        True, True, True, True, True, True, True, True, True, True, True, True,\n",
      "        True, True, True, True, True, True, True, True, True, True, True, True,\n",
      "        True, True, True, True, True, True, True, True, True, True, True, True,\n",
      "        True, True, True, True, True, True, True, True, True, True, True, True,\n",
      "        True, True, True, True, True, True, True, True, True, True, True, True,\n",
      "        True, True, True, True, True, True, True, True, True, True, True, True,\n",
      "        True, True, True, True, True, True, True, True, True, True, True, True,\n",
      "        True, True, True, True, True, True, True, True, True, True, True, True,\n",
      "        True, True, True, True, True, True, True, True, True, True, True, True,\n",
      "        True, True, True, True, True, True, True, True, True, True, True, True,\n",
      "        True, True, True, True, True, True, True, True, True, True, True, True,\n",
      "        True, True, True, True, True, True, True, True, True, True, True, True,\n",
      "        True, True, True, True, True, True, True, True, True, True, True, True,\n",
      "        True, True, True, True, True, True, True, True, True, True, True, True,\n",
      "        True, True, True, True, True, True, True, True, True, True, True, True,\n",
      "        True, True, True, True, True, True, True, True, True, True, True, True,\n",
      "        True, True, True, True, True, True, True, True, True, True, True, True,\n",
      "        True, True, True, True, True, True, True, True, True, True, True, True,\n",
      "        True, True, True, True, True, True, True, True, True, True, True, True,\n",
      "        True, True, True, True, True, True, True, True, True, True, True, True,\n",
      "        True, True, True, True, True, True, True, True, True, True, True, True,\n",
      "        True, True, True, True, True, True, True, True, True, True, True, True,\n",
      "        True, True, True, True, True, True, True, True, True, True, True, True,\n",
      "        True, True, True, True, True, True, True, True, True, True, True, True,\n",
      "        True, True, True, True, True, True, True, True, True, True, True, True,\n",
      "        True, True, True, True, True, True, True, True, True, True, True, True,\n",
      "        True, True, True, True, True, True, True, True, True, True, True, True,\n",
      "        True, True, True, True, True, True, True, True, True, True, True, True,\n",
      "        True, True, True, True, True, True, True, True, True, True, True, True,\n",
      "        True, True, True, True, True, True, True, True, True, True, True, True,\n",
      "        True, True, True, True, True, True, True, True, True, True, True, True,\n",
      "        True, True, True, True, True, True, True, True, True, True, True, True,\n",
      "        True, True, True, True, True, True, True, True, True, True, True, True,\n",
      "        True, True, True, True, True, True, True, True, True, True, True, True,\n",
      "        True, True, True, True, True, True, True, True, True, True, True, True,\n",
      "        True, True, True, True, True, True, True, True, True, True, True, True,\n",
      "        True, True, True, True, True, True, True, True, True, True, True, True,\n",
      "        True, True, True, True, True, True, True, True, True, True, True, True,\n",
      "        True, True, True, True, True, True, True, True, True, True, True, True,\n",
      "        True, True, True, True, True, True, True, True, True, True, True, True,\n",
      "        True, True, True, True, True, True, True, True, True, True, True, True,\n",
      "        True, True, True, True, True, True, True, True, True, True, True, True,\n",
      "        True, True, True, True, True, True, True, True, True, True, True, True])\n",
      "tensor([True, True, True, True, True, True, True, True, True, True, True, True,\n",
      "        True, True, True, True, True, True, True, True, True, True, True, True,\n",
      "        True, True, True, True, True, True, True, True, True, True, True, True,\n",
      "        True, True, True, True, True, True, True, True, True, True, True, True,\n",
      "        True, True, True, True, True, True, True, True, True, True, True, True,\n",
      "        True, True, True, True, True, True, True, True, True, True, True, True,\n",
      "        True, True, True, True, True, True, True, True, True, True, True, True,\n",
      "        True, True, True, True, True, True, True, True, True, True, True, True,\n",
      "        True, True, True, True, True, True, True, True, True, True, True, True,\n",
      "        True, True, True, True, True, True, True, True, True, True, True, True,\n",
      "        True, True, True, True, True, True, True, True, True, True, True, True,\n",
      "        True, True, True, True, True, True, True, True, True, True, True, True,\n",
      "        True, True, True, True, True, True, True, True, True, True, True, True,\n",
      "        True, True, True, True, True, True, True, True, True, True, True, True,\n",
      "        True, True, True, True, True, True, True, True, True, True, True, True,\n",
      "        True, True, True, True, True, True, True, True, True, True, True, True,\n",
      "        True, True, True, True, True, True, True, True, True, True, True, True,\n",
      "        True, True, True, True, True, True, True, True, True, True, True, True,\n",
      "        True, True, True, True, True, True, True, True, True, True, True, True,\n",
      "        True, True, True, True, True, True, True, True, True, True, True, True,\n",
      "        True, True, True, True, True, True, True, True, True, True, True, True,\n",
      "        True, True, True, True, True, True, True, True, True, True, True, True,\n",
      "        True, True, True, True, True, True, True, True, True, True, True, True,\n",
      "        True, True, True, True, True, True, True, True, True, True, True, True,\n",
      "        True, True, True, True, True, True, True, True, True, True, True, True,\n",
      "        True, True, True, True, True, True, True, True, True, True, True, True,\n",
      "        True, True, True, True, True, True, True, True, True, True, True, True,\n",
      "        True, True, True, True, True, True, True, True, True, True, True, True,\n",
      "        True, True, True, True, True, True, True, True, True, True, True, True,\n",
      "        True, True, True, True, True, True, True, True, True, True, True, True,\n",
      "        True, True, True, True, True, True, True, True, True, True, True, True,\n",
      "        True, True, True, True, True, True, True, True, True, True, True, True,\n",
      "        True, True, True, True, True, True, True, True, True, True, True, True,\n",
      "        True, True, True, True, True, True, True, True, True, True, True, True,\n",
      "        True, True, True, True, True, True, True, True, True, True, True, True,\n",
      "        True, True, True, True, True, True, True, True, True, True, True, True,\n",
      "        True, True, True, True, True, True, True, True, True, True, True, True,\n",
      "        True, True, True, True, True, True, True, True, True, True, True, True,\n",
      "        True, True, True, True, True, True, True, True, True, True, True, True,\n",
      "        True, True, True, True, True, True, True, True, True, True, True, True,\n",
      "        True, True, True, True, True, True, True, True, True, True, True, True,\n",
      "        True, True, True, True, True, True, True, True, True, True, True, True,\n",
      "        True, True, True, True, True, True, True, True, True, True, True, True,\n",
      "        True, True, True, True, True, True, True, True, True, True, True, True,\n",
      "        True, True, True, True, True, True, True, True, True, True, True, True,\n",
      "        True, True, True, True, True, True, True, True, True, True, True, True,\n",
      "        True, True, True, True, True, True, True, True, True, True, True, True,\n",
      "        True, True, True, True, True, True, True, True, True, True, True, True,\n",
      "        True, True, True, True, True, True, True, True, True, True, True, True,\n",
      "        True, True, True, True, True, True, True, True, True, True, True, True,\n",
      "        True, True, True, True, True, True, True, True, True, True, True, True,\n",
      "        True, True, True, True, True, True, True, True, True, True, True, True,\n",
      "        True, True, True, True, True, True, True, True, True, True, True, True,\n",
      "        True, True, True, True, True, True, True, True, True, True, True, True,\n",
      "        True, True, True, True, True, True, True, True, True, True, True, True,\n",
      "        True, True, True, True, True, True, True, True, True, True, True, True,\n",
      "        True, True, True, True, True, True, True, True, True, True, True, True,\n",
      "        True, True, True, True, True, True, True, True, True, True, True, True,\n",
      "        True, True, True, True, True, True, True, True, True, True, True, True,\n",
      "        True, True, True, True, True, True, True, True, True, True, True, True,\n",
      "        True, True, True, True, True, True, True, True, True, True, True, True,\n",
      "        True, True, True, True, True, True, True, True, True, True, True, True,\n",
      "        True, True, True, True, True, True, True, True, True, True, True, True,\n",
      "        True, True, True, True, True, True, True, True, True, True, True, True])\n"
     ]
    },
    {
     "output_type": "error",
     "ename": "ValueError",
     "evalue": "too many values to unpack (expected 3)",
     "traceback": [
      "\u001b[0;31m---------------------------------------------------------------------------\u001b[0m",
      "\u001b[0;31mValueError\u001b[0m                                Traceback (most recent call last)",
      "\u001b[0;32m<ipython-input-6-99684fa25b64>\u001b[0m in \u001b[0;36m<module>\u001b[0;34m\u001b[0m\n\u001b[1;32m      1\u001b[0m \u001b[0;32mfor\u001b[0m \u001b[0mi\u001b[0m \u001b[0;32min\u001b[0m \u001b[0mrange\u001b[0m\u001b[0;34m(\u001b[0m\u001b[0mlen\u001b[0m\u001b[0;34m(\u001b[0m\u001b[0mwrong_path_list\u001b[0m\u001b[0;34m)\u001b[0m\u001b[0;34m)\u001b[0m\u001b[0;34m:\u001b[0m\u001b[0;34m\u001b[0m\u001b[0;34m\u001b[0m\u001b[0m\n\u001b[0;32m----> 2\u001b[0;31m     \u001b[0mdelete_index\u001b[0m\u001b[0;34m(\u001b[0m\u001b[0mwrong_path_list\u001b[0m\u001b[0;34m[\u001b[0m\u001b[0mi\u001b[0m\u001b[0;34m]\u001b[0m\u001b[0;34m)\u001b[0m\u001b[0;34m\u001b[0m\u001b[0;34m\u001b[0m\u001b[0m\n\u001b[0m",
      "\u001b[0;32m<ipython-input-3-84bc58816d8d>\u001b[0m in \u001b[0;36mdelete_index\u001b[0;34m(str)\u001b[0m\n\u001b[1;32m      1\u001b[0m \u001b[0;32mdef\u001b[0m \u001b[0mdelete_index\u001b[0m\u001b[0;34m(\u001b[0m\u001b[0mstr\u001b[0m\u001b[0;34m)\u001b[0m\u001b[0;34m:\u001b[0m\u001b[0;34m\u001b[0m\u001b[0;34m\u001b[0m\u001b[0m\n\u001b[0;32m----> 2\u001b[0;31m     \u001b[0mn1\u001b[0m\u001b[0;34m,\u001b[0m \u001b[0mn2\u001b[0m\u001b[0;34m,\u001b[0m \u001b[0mn3\u001b[0m \u001b[0;34m=\u001b[0m \u001b[0mstr\u001b[0m\u001b[0;34m.\u001b[0m\u001b[0msplit\u001b[0m\u001b[0;34m(\u001b[0m\u001b[0;34m' '\u001b[0m\u001b[0;34m)\u001b[0m\u001b[0;34m\u001b[0m\u001b[0;34m\u001b[0m\u001b[0m\n\u001b[0m\u001b[1;32m      3\u001b[0m     \u001b[0mn1\u001b[0m \u001b[0;34m=\u001b[0m \u001b[0mint\u001b[0m\u001b[0;34m(\u001b[0m\u001b[0mn1\u001b[0m\u001b[0;34m)\u001b[0m\u001b[0;34m\u001b[0m\u001b[0;34m\u001b[0m\u001b[0m\n\u001b[1;32m      4\u001b[0m     \u001b[0mn2\u001b[0m \u001b[0;34m=\u001b[0m \u001b[0mint\u001b[0m\u001b[0;34m(\u001b[0m\u001b[0mn2\u001b[0m\u001b[0;34m)\u001b[0m\u001b[0;34m\u001b[0m\u001b[0;34m\u001b[0m\u001b[0m\n\u001b[1;32m      5\u001b[0m     \u001b[0mn3\u001b[0m \u001b[0;34m=\u001b[0m \u001b[0mint\u001b[0m\u001b[0;34m(\u001b[0m\u001b[0mn3\u001b[0m\u001b[0;34m)\u001b[0m\u001b[0;34m\u001b[0m\u001b[0;34m\u001b[0m\u001b[0m\n",
      "\u001b[0;31mValueError\u001b[0m: too many values to unpack (expected 3)"
     ]
    }
   ],
   "source": [
    "for i in range(len(wrong_path_list)):\n",
    "    delete_index(wrong_path_list[i])"
   ]
  },
  {
   "cell_type": "code",
   "execution_count": 8,
   "metadata": {},
   "outputs": [
    {
     "output_type": "execute_result",
     "data": {
      "text/plain": [
       "'46 0 0\\n'"
      ]
     },
     "metadata": {},
     "execution_count": 8
    }
   ],
   "source": [
    "wrong_path_list[23]"
   ]
  },
  {
   "cell_type": "code",
   "execution_count": 38,
   "metadata": {},
   "outputs": [],
   "source": [
    "save_file = \"/home/minju/path_generator/commonsense-qa/path_embeddings/small_csqa/path_embedding_minju.pickle\"\n",
    "with open(save_file, 'wb') as handle:\n",
    "        pickle.dump(new_data, handle, protocol=pickle.HIGHEST_PROTOCOL)"
   ]
  },
  {
   "cell_type": "code",
   "execution_count": 34,
   "metadata": {},
   "outputs": [],
   "source": [
    "path_embedding = \"/home/minju/youngwookee/commonsense-qa/path_embeddings/small_csqa/path_embedding_minju.pickle\"\n",
    "with open(path_embedding, 'rb') as f:\n",
    "    data = pickle.load(f)"
   ]
  },
  {
   "cell_type": "code",
   "execution_count": 35,
   "metadata": {},
   "outputs": [
    {
     "output_type": "execute_result",
     "data": {
      "text/plain": [
       "'6 2 2\\n'"
      ]
     },
     "metadata": {},
     "execution_count": 35
    }
   ],
   "source": [
    "wrong_path_list[13]"
   ]
  },
  {
   "cell_type": "code",
   "execution_count": 9,
   "metadata": {},
   "outputs": [
    {
     "output_type": "execute_result",
     "data": {
      "text/plain": [
       "tensor([ 4.2628e-01, -4.2204e-01, -1.1409e+00,  4.9062e-01, -2.7811e-01,\n",
       "         2.4344e-01, -2.1675e-01,  3.4046e-02,  3.0586e-01,  2.7978e-01,\n",
       "        -1.6498e-01, -2.0800e-01, -2.1647e-02, -2.2455e-01, -4.0841e-01,\n",
       "        -7.8654e-01, -6.4757e-02,  3.8431e-01,  2.5513e-01,  8.8241e-01,\n",
       "         9.6752e-02,  4.7779e-01,  3.1301e-01, -5.7917e-01, -5.0270e-01,\n",
       "         8.5986e-02, -6.7207e-02,  3.5982e-02,  3.0251e-01, -1.2977e-01,\n",
       "        -1.8983e-01,  3.2059e-01, -4.7035e-01,  2.3685e-01,  1.2001e-01,\n",
       "         2.8307e-01,  6.2461e+00, -2.0738e-01, -6.0874e-01,  1.1020e+00,\n",
       "        -9.1592e-01,  1.6172e-01, -1.7159e-01, -5.2230e-01, -4.2962e-01,\n",
       "         2.9666e-02, -4.4678e-01, -3.3752e-01,  7.3346e-01, -8.8767e-01,\n",
       "         1.4220e-01,  1.2152e-01, -1.1976e+00, -2.3673e-01, -3.6939e-01,\n",
       "         3.0887e-01, -4.6275e-01, -7.4750e-02, -1.5970e-02, -3.6371e-01,\n",
       "        -1.4861e-02,  2.5144e-01,  8.7036e-02,  5.5058e-01, -1.0127e+00,\n",
       "         1.6104e-01,  3.5418e-01, -4.6773e-01, -7.8562e-01,  2.3307e-01,\n",
       "         5.7455e-01,  1.8131e-04, -2.0331e-01,  5.2178e-01,  4.9748e-01,\n",
       "        -2.7692e-01, -3.6585e-01, -1.1224e+00,  6.0993e-01, -9.8563e-02,\n",
       "         6.1166e-01,  2.6440e-01,  9.9306e-02, -4.1923e-01, -1.9466e-01,\n",
       "         4.1871e-01, -7.1998e-02, -9.5807e-01,  2.2950e-01,  3.5570e-02,\n",
       "         2.6290e-02,  2.2760e-01, -4.2334e-01,  3.4774e-01, -2.6746e-01,\n",
       "         4.0747e-01,  7.0407e-01, -7.0291e-01,  4.1494e-01,  2.0432e-01,\n",
       "         2.1113e-01, -6.3404e-01,  2.6510e+00,  7.0448e-01,  1.8970e-01,\n",
       "        -4.0115e-01,  4.5372e-01,  6.9298e+00,  1.4783e-01, -1.2723e-01,\n",
       "         1.5726e-01,  6.0976e-01, -5.7649e-01, -3.0831e-01, -2.1984e-01,\n",
       "         1.4826e-01, -1.1965e-01,  1.5914e-01,  1.1837e-01, -7.4311e-01,\n",
       "        -4.6494e-02,  4.1536e-01,  4.6230e-01,  4.4708e-01,  9.4679e-02,\n",
       "         1.8720e-02,  6.4229e-01,  1.2271e-02, -1.8288e-01,  3.8617e-01,\n",
       "        -9.3332e-02,  1.5680e-01, -8.9871e-02, -2.6225e-01, -4.5964e-01,\n",
       "         1.9298e-01,  2.0644e-01, -1.3633e-01,  5.9674e-01,  4.6371e-01,\n",
       "         9.7777e-01,  3.2021e-01, -1.6579e+00, -2.4477e-01, -6.5817e-01,\n",
       "        -6.0608e-02,  9.3159e-02, -3.8093e-01,  2.9312e-01,  4.6646e-01,\n",
       "         5.8920e-01, -6.9750e-01, -2.2963e-01, -3.6985e-01, -7.0107e-03,\n",
       "         5.9163e-01, -3.9460e-01, -1.9332e-01,  6.8308e-01,  1.1568e-01,\n",
       "         1.1636e+00, -1.9043e-01, -4.4577e-01, -1.1667e-01, -5.5401e-01,\n",
       "        -9.0281e-01,  4.0984e-01,  1.2716e+00,  5.6325e-01, -9.2918e-02,\n",
       "        -3.3268e-01, -5.3519e-01, -2.7363e-01,  2.1841e-01, -4.3376e-01,\n",
       "        -3.4784e-01,  6.4518e-01, -1.0183e-01, -1.4907e-01, -6.3411e-01,\n",
       "         3.1549e-01,  1.9184e-01, -5.6471e-01, -4.9774e-02, -3.2986e-01,\n",
       "        -6.1897e-01,  6.4871e-01,  2.5664e-01,  4.5102e-01,  3.3563e-01,\n",
       "         1.1273e-02, -8.0999e-01, -4.7404e-01,  9.6919e-02,  5.9816e-01,\n",
       "         3.4740e-02,  1.3876e-01,  3.4241e-01,  4.9434e-01, -2.6473e-01,\n",
       "         3.0481e-01,  3.5198e-01, -6.5437e-01,  1.7702e-01, -2.2277e-01,\n",
       "         7.9761e-01,  1.2568e-01,  3.1317e-01, -2.2050e-01,  4.1765e-01,\n",
       "         3.4654e-01,  4.5454e-01, -2.8580e-01,  1.4827e+00,  2.3176e-01,\n",
       "         8.9852e-02,  3.4129e-01, -5.6485e-01, -4.5881e-02,  8.2020e-01,\n",
       "         6.0973e-01,  1.0624e+00,  2.3014e-01,  1.3578e-01,  4.6939e-01,\n",
       "         1.0310e-01, -1.3185e-01,  3.7143e-02, -2.5618e-01, -1.9016e-01,\n",
       "         4.0925e-01,  5.3458e-02,  1.0338e+00,  3.8947e-02,  1.3399e-01,\n",
       "        -4.1073e-01, -5.6665e-02, -5.6141e-02,  3.9237e-02,  4.8382e-01,\n",
       "         1.2588e-01,  2.0220e-01, -4.7805e-01, -4.6353e-01,  7.9969e-04,\n",
       "         2.6364e-01, -1.0614e-01,  2.9703e-01,  5.0777e-01, -1.3655e+00,\n",
       "        -9.0705e-01, -7.1841e-01, -6.4334e-01,  2.9191e-02,  4.3161e-01,\n",
       "        -1.5057e-01, -1.3958e-01,  2.6816e-01, -5.5563e-02, -1.0023e+00,\n",
       "         2.3343e-01, -3.0742e-01, -2.6384e-01,  3.1609e-01,  7.7189e-02,\n",
       "         1.7748e-01, -9.6573e-01, -8.6017e-02, -2.1668e-01, -1.2899e-01,\n",
       "         3.7487e-01,  1.3004e+00, -1.2639e-01,  7.4441e-01,  1.2994e+00,\n",
       "         5.1715e-01,  3.0876e-01, -3.8570e-01,  3.5427e-01,  4.8663e-01,\n",
       "         4.7358e-01,  4.1987e-01, -2.8595e-01, -1.6971e-01,  2.5105e-01,\n",
       "         1.4035e-01, -2.7993e-01, -7.0198e-01,  5.5462e-01,  1.1533e+00,\n",
       "        -8.9507e-01,  1.9631e-01,  4.3176e-01,  3.3179e-01, -2.4329e-01,\n",
       "         1.3616e-01,  4.1695e-01, -7.2203e-02, -6.8295e-01,  3.7480e-02,\n",
       "        -2.4814e-02, -3.0718e-01, -8.5526e-03,  1.1804e-01, -3.2750e-02,\n",
       "        -6.8152e-01, -2.3921e-02, -3.6507e-01,  1.9042e-01,  7.7772e-02,\n",
       "         9.3614e-02,  3.7094e-01, -3.5233e-03, -4.8951e-01,  1.6598e+01,\n",
       "         3.3442e-01,  5.6821e-01, -4.3300e-01,  5.3386e-03,  2.8700e-01,\n",
       "         6.9781e-02,  4.2659e-01,  4.2510e-02,  5.0230e-01,  6.6323e-01,\n",
       "         1.5341e-02,  5.9699e-01, -2.4277e-01, -1.9884e-01,  2.3594e-03,\n",
       "        -2.7924e-01, -4.7013e-01, -3.2190e-01, -5.8147e-01,  8.5298e-02,\n",
       "         3.4454e-01,  1.2231e-01, -2.8765e-01,  2.8549e-01, -5.6329e-01,\n",
       "         4.0258e-01,  3.1201e-01, -1.2808e-01, -1.0540e-02, -3.8409e-02,\n",
       "         1.5810e-01,  1.3902e-01, -8.8718e-02, -6.7002e-01, -4.9849e-01,\n",
       "        -3.6923e-02,  3.4964e-01,  1.0754e-01, -2.1889e-01, -1.4066e-01,\n",
       "         9.9163e-01,  9.2796e-01,  1.6114e-01, -2.0684e-01,  7.1820e-03,\n",
       "        -2.3371e-01, -4.5480e-01, -4.2594e-01,  4.2071e-01, -4.9576e-02,\n",
       "         5.5466e-01, -8.1189e-01,  2.0236e-01,  3.7555e-02,  4.4716e-01,\n",
       "         8.8918e-02, -2.5319e-01,  7.8235e-02, -1.0362e+00, -1.4386e+01,\n",
       "        -4.0609e-01, -2.6340e-01,  2.0325e-01,  4.5271e-01, -3.6100e-01,\n",
       "        -4.2925e-01, -3.4210e-01, -6.0560e-01,  2.9494e-01,  7.1642e-01,\n",
       "        -3.5476e-01,  2.3536e-01,  3.0565e-01, -1.3086e-01, -3.0759e-01,\n",
       "         3.5487e-01, -2.8291e-01,  1.7137e-01,  1.8988e-02, -7.5872e-01,\n",
       "        -7.1000e-03, -4.2160e-02, -7.3522e-01, -4.9935e-01,  3.3764e-01,\n",
       "        -9.9988e-02,  2.2126e-01,  3.6620e-01, -8.3877e-03,  2.4749e-01,\n",
       "        -4.5699e-01,  4.3700e-01, -7.6017e-01,  1.1757e+00, -3.1177e-01,\n",
       "        -8.2731e-02, -6.9654e-01,  2.5927e-01, -9.6543e-02,  6.5513e-01,\n",
       "        -3.2882e-01,  7.6929e-01,  2.9511e-01,  5.3763e-02, -3.3863e-02,\n",
       "         7.1713e-01,  1.7991e-01, -5.4438e-02, -3.3770e-01,  1.1405e-01,\n",
       "        -5.1738e-01,  4.2094e-01,  3.1681e-02, -1.7514e-01, -6.4096e-02,\n",
       "         1.1575e+01,  2.4885e-01,  2.9429e-01,  5.3208e-01,  9.9928e-02,\n",
       "         5.5144e-01, -7.2429e-01,  1.9977e-01,  1.2993e+00,  1.5800e+00,\n",
       "        -8.0694e-01,  5.1451e-02,  1.6978e+01, -3.0037e-01,  2.8476e-01,\n",
       "         2.1649e-01,  4.4436e-01,  8.7163e-01,  2.6023e-01, -4.4695e-01,\n",
       "         5.1228e-01, -1.0925e-01, -2.1355e-01,  6.4929e-02, -1.4766e-01,\n",
       "         1.1809e+00, -1.1311e+00,  4.8391e-01, -6.4695e-02, -1.5791e-01,\n",
       "        -4.7005e-02,  7.9303e-02, -4.8852e-01, -2.9032e-02,  3.0558e-03,\n",
       "         6.9791e-01,  2.1550e-01, -5.2578e-01,  5.6738e-01,  6.4932e-01,\n",
       "         1.4166e-01,  5.0427e-01,  3.1193e-01,  4.8085e-02, -1.0119e-01,\n",
       "        -5.4203e-02,  9.9021e-02, -1.1251e-01, -5.5977e-01, -1.2818e+01,\n",
       "        -8.2906e-01,  1.0755e+00,  3.6490e-01,  5.5188e-01, -5.9863e-01,\n",
       "         5.8172e-01,  6.0158e-02, -5.6964e-02,  1.3461e-01,  6.8391e-01,\n",
       "         2.6194e-01, -7.4867e-01, -6.1651e-01, -3.7763e-01,  1.4545e-01,\n",
       "         1.6202e-01,  2.5868e+00,  2.6601e-01, -1.0075e-01,  7.4370e-02,\n",
       "        -5.5295e-01, -1.8365e-01,  2.6550e-01,  1.4591e+00,  3.5411e-01,\n",
       "         4.0052e-01,  5.5207e-02,  9.7183e-02,  1.2834e-01,  2.5732e-01,\n",
       "         1.1993e-01, -1.0764e+00, -2.9587e-01,  1.9571e-01,  6.4344e-01,\n",
       "         7.7493e-01,  1.7895e-01,  5.1395e-02,  1.8910e-01,  1.2579e-01,\n",
       "         6.5009e-02, -5.4755e-01,  1.0034e+00, -3.7081e-01,  8.3775e-02,\n",
       "         6.3417e-01,  3.4302e-02, -4.5883e-01, -2.5797e-01,  3.3047e-01,\n",
       "        -1.1537e-01,  2.6621e-01, -4.9468e-01, -6.7291e-01, -8.2157e-02,\n",
       "        -3.2759e-02, -1.8367e-01,  3.3130e-01,  3.2823e-01, -3.6274e-01,\n",
       "         8.2066e-01, -6.5065e-02,  6.8354e-02, -2.2386e+00, -1.0251e+00,\n",
       "        -4.1786e-01, -1.3672e-01,  1.0088e+00, -4.2617e-02,  1.9659e-01,\n",
       "        -3.5540e-01, -6.5898e-01, -4.1221e-01, -1.1693e-01, -2.0379e+00,\n",
       "         5.9079e-01, -1.6256e-01, -6.8978e-02,  5.6839e-02, -6.6845e-01,\n",
       "        -2.1622e-01, -1.0833e-01, -9.0864e-02, -2.3896e-02,  3.5197e-01,\n",
       "         1.9344e-01,  1.2823e-01,  8.7198e-02, -1.1458e-01,  5.3930e-02,\n",
       "        -2.6477e-01,  7.2739e-02,  1.7897e-01, -1.4586e-01, -1.4430e-01,\n",
       "         3.4232e-01,  6.4119e-01,  8.2482e-03, -3.3613e-01,  6.5742e-01,\n",
       "         6.7731e-01, -1.0355e-01,  2.7243e-01,  2.5168e-01, -5.3330e-01,\n",
       "        -3.3699e-01,  3.2383e-01, -1.7621e-01, -5.1699e-01, -1.5809e-02,\n",
       "        -6.1058e-01,  3.8593e-01,  7.2085e-01,  5.1684e-01,  3.8660e-01,\n",
       "        -1.8818e-01, -3.2199e-01, -3.3482e-01, -2.3536e-01,  6.6897e-01,\n",
       "         1.7282e-01, -8.3675e-02, -2.7908e-01, -3.5338e-01,  6.3053e-02,\n",
       "        -1.1745e-01,  1.6810e-01,  2.4017e-01, -2.5659e-01, -4.1150e-01,\n",
       "         4.7042e-01, -5.6951e-01,  4.2111e-01,  2.7250e-01,  4.8009e-02,\n",
       "         7.1786e-01,  3.6884e-01,  1.0057e+00, -3.4518e-01, -3.1909e-01,\n",
       "         1.6604e-01,  1.5025e-01,  1.5558e-01,  4.2719e-01,  5.2339e-02,\n",
       "        -5.6145e-01,  5.0933e-02, -4.9574e-01,  7.2067e-01,  5.6926e-02,\n",
       "         2.7108e-01, -3.6983e-01, -7.0300e-01,  1.7514e-02,  2.9155e-01,\n",
       "         1.7041e-01, -2.5693e-01,  2.4498e-02, -3.0578e-02,  1.1946e-01,\n",
       "         1.2128e-01, -2.0103e-01,  4.7913e-01, -5.5851e-01,  7.9623e-01,\n",
       "         5.4367e-01,  2.0794e-01,  4.2066e-01, -2.1156e-01,  3.4685e-03,\n",
       "        -5.3230e-01, -8.0312e-02, -2.6738e-01, -1.7859e-01,  1.2047e-01,\n",
       "         1.7558e+00,  2.2317e-01,  5.3846e-02,  2.7810e-01,  6.2080e-02,\n",
       "        -1.2526e-01, -3.0993e-01, -2.3289e-02,  1.6176e-02, -7.4824e-02,\n",
       "         2.1174e-01, -6.9891e-01, -1.6510e-01,  4.7501e-01, -6.3889e-01,\n",
       "        -4.4193e-01, -5.0376e-01, -4.7719e-01, -2.3171e-01,  6.6136e-01,\n",
       "        -1.7023e-01,  8.3227e-02, -1.0165e-01,  1.8310e-01,  1.6429e+00,\n",
       "         1.7911e-01,  9.7394e-02,  2.7282e-01,  6.7331e-03,  2.2968e-01,\n",
       "        -4.8712e-01,  8.3399e-01,  2.0169e-01,  1.3708e-01,  1.0252e+00,\n",
       "         1.6570e-01, -2.0066e-01, -1.8506e-02,  3.9376e-01, -9.3575e-01,\n",
       "         9.7608e-01, -1.4821e-02,  2.3953e-01,  6.2904e-01,  2.1413e-01,\n",
       "        -2.4005e-01,  7.5413e-02, -3.0387e-01, -1.6407e+01, -2.6542e-01,\n",
       "        -4.1314e-01,  9.6121e-01,  6.1458e-02,  6.4935e-01,  2.0024e-02,\n",
       "        -4.1821e-01, -3.1256e-01,  2.4709e-01, -3.2181e-01,  2.3677e-02,\n",
       "        -3.3469e-01, -3.3632e-02, -4.8421e-01, -2.5586e-01,  1.9411e-01,\n",
       "         5.7119e-02, -4.9385e-01,  1.4301e-01,  3.3811e-02,  2.4277e-01,\n",
       "         1.9835e-01,  1.3962e-01, -1.1538e-01, -3.4094e-01,  5.4660e-02,\n",
       "        -2.9464e-01,  7.0232e-01, -1.8878e-01, -4.2597e-01, -9.2452e-02,\n",
       "         8.7702e-04,  2.7075e-01,  8.8983e-03, -8.9265e-01,  5.3888e-01,\n",
       "         7.4282e-03,  4.0375e-01,  8.8781e-01,  2.8885e-01,  2.2347e-01,\n",
       "         4.8297e-01,  2.3142e-01,  5.6630e-01, -1.4697e-01, -9.8066e-02,\n",
       "        -1.3442e-01, -2.8117e-01, -6.8575e-02, -9.5807e-01,  6.4410e-02,\n",
       "        -3.9268e-01, -6.5497e-01,  5.9609e-01, -3.6402e-01, -1.2536e-01,\n",
       "         5.4890e-01,  1.0216e-01,  1.7767e+00, -3.7099e-01, -1.7823e-01,\n",
       "         2.6088e-01,  2.0698e-01, -2.1578e-01])"
      ]
     },
     "metadata": {},
     "execution_count": 9
    }
   ],
   "source": [
    "data['train'][46][0][0]"
   ]
  },
  {
   "cell_type": "code",
   "execution_count": 11,
   "metadata": {},
   "outputs": [
    {
     "output_type": "execute_result",
     "data": {
      "text/plain": [
       "torch.Size([768])"
      ]
     },
     "metadata": {},
     "execution_count": 11
    }
   ],
   "source": [
    "xxxxx.size()"
   ]
  },
  {
   "cell_type": "code",
   "execution_count": 13,
   "metadata": {},
   "outputs": [],
   "source": [
    "import torch\n",
    "zero_vector = torch.zeros(768)"
   ]
  },
  {
   "cell_type": "code",
   "execution_count": 14,
   "metadata": {},
   "outputs": [],
   "source": [
    "for i in range(len(data['train'])):\n",
    "    for j in range(len(data['train'][0])):\n",
    "        for k in range(len(data['train'][0][0])):\n",
    "            data['train'][i][j] = zero_vector"
   ]
  },
  {
   "cell_type": "code",
   "execution_count": 15,
   "metadata": {},
   "outputs": [
    {
     "output_type": "execute_result",
     "data": {
      "text/plain": [
       "tensor([[0., 0., 0.,  ..., 0., 0., 0.],\n",
       "        [0., 0., 0.,  ..., 0., 0., 0.],\n",
       "        [0., 0., 0.,  ..., 0., 0., 0.],\n",
       "        [0., 0., 0.,  ..., 0., 0., 0.],\n",
       "        [0., 0., 0.,  ..., 0., 0., 0.]])"
      ]
     },
     "metadata": {},
     "execution_count": 15
    }
   ],
   "source": [
    "data['train'][0][1]"
   ]
  },
  {
   "cell_type": "code",
   "execution_count": 36,
   "metadata": {},
   "outputs": [
    {
     "output_type": "execute_result",
     "data": {
      "text/plain": [
       "tensor([[ 0.4263, -0.4220, -1.1409,  ...,  0.2609,  0.2070, -0.2158],\n",
       "        [ 0.4263, -0.4220, -1.1409,  ...,  0.2609,  0.2070, -0.2158],\n",
       "        [ 0.4263, -0.4220, -1.1409,  ...,  0.2609,  0.2070, -0.2158],\n",
       "        [ 0.4263, -0.4220, -1.1409,  ...,  0.2609,  0.2070, -0.2158],\n",
       "        [ 0.4263, -0.4220, -1.1409,  ...,  0.2609,  0.2070, -0.2158]])"
      ]
     },
     "metadata": {},
     "execution_count": 36
    }
   ],
   "source": [
    "data['train'][5][1]"
   ]
  },
  {
   "cell_type": "code",
   "execution_count": 16,
   "metadata": {},
   "outputs": [],
   "source": [
    "save_file = \"/home/minju/path_generator/commonsense-qa/path_embeddings/small_csqa/path_embedding_minju.pickle\"\n",
    "with open(save_file, 'wb') as handle:\n",
    "        pickle.dump(data, handle, protocol=pickle.HIGHEST_PROTOCOL)"
   ]
  },
  {
   "cell_type": "code",
   "execution_count": 38,
   "metadata": {},
   "outputs": [],
   "source": [
    "import pickle5 as pickle\n",
    "\n",
    "path_embedding = '/home/minju/path_generator/commonsense-qa/path_embeddings/small_csqa/path_embedding_minju.pickle'\n",
    "with open(path_embedding, 'rb') as f:\n",
    "    data = pickle.load(f)"
   ]
  },
  {
   "cell_type": "code",
   "execution_count": 40,
   "metadata": {},
   "outputs": [
    {
     "output_type": "execute_result",
     "data": {
      "text/plain": [
       "tensor([[ 0.4263, -0.4220, -1.1409,  ...,  0.2609,  0.2070, -0.2158],\n",
       "        [ 0.4263, -0.4220, -1.1409,  ...,  0.2609,  0.2070, -0.2158],\n",
       "        [ 0.4263, -0.4220, -1.1409,  ...,  0.2609,  0.2070, -0.2158],\n",
       "        [ 0.4263, -0.4220, -1.1409,  ...,  0.2609,  0.2070, -0.2158],\n",
       "        [ 0.4263, -0.4220, -1.1409,  ...,  0.2609,  0.2070, -0.2158]])"
      ]
     },
     "metadata": {},
     "execution_count": 40
    }
   ],
   "source": [
    "data['train'][10][1]"
   ]
  },
  {
   "cell_type": "code",
   "execution_count": null,
   "metadata": {},
   "outputs": [],
   "source": []
  }
 ]
}