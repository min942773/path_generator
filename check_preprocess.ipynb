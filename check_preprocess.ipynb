{
 "metadata": {
  "language_info": {
   "codemirror_mode": {
    "name": "ipython",
    "version": 3
   },
   "file_extension": ".py",
   "mimetype": "text/x-python",
   "name": "python",
   "nbconvert_exporter": "python",
   "pygments_lexer": "ipython3",
   "version": "3.7.4-final"
  },
  "orig_nbformat": 2,
  "kernelspec": {
   "name": "python3",
   "display_name": "Python 3",
   "language": "python"
  }
 },
 "nbformat": 4,
 "nbformat_minor": 2,
 "cells": [
  {
   "cell_type": "code",
   "execution_count": 2,
   "metadata": {},
   "outputs": [],
   "source": [
    "import pickle5 as pickle\n",
    "import json\n",
    "from tqdm import tqdm\n"
   ]
  },
  {
   "cell_type": "code",
   "execution_count": 7,
   "metadata": {},
   "outputs": [
    {
     "output_type": "stream",
     "name": "stderr",
     "text": [
      "9741it [00:00, 46614.86it/s]\n"
     ]
    }
   ],
   "source": [
    "train_path = '/home/minju/path_generator/commonsense-qa/data/csqa/train.jsonl'\n",
    "train_list = []\n",
    "\n",
    "with open(train_path, 'r') as train_file:\n",
    "    for line in tqdm(train_file):\n",
    "        json_line = json.loads(line)\n",
    "        train_list.append(json_line)"
   ]
  },
  {
   "cell_type": "code",
   "execution_count": 8,
   "metadata": {},
   "outputs": [
    {
     "output_type": "execute_result",
     "data": {
      "text/plain": [
       "{'answerKey': 'A',\n",
       " 'id': '075e483d21c29a511267ef62bedc0461',\n",
       " 'question': {'question_concept': 'punishing',\n",
       "  'choices': [{'label': 'A', 'text': 'ignore'},\n",
       "   {'label': 'B', 'text': 'enforce'},\n",
       "   {'label': 'C', 'text': 'authoritarian'},\n",
       "   {'label': 'D', 'text': 'yell at'},\n",
       "   {'label': 'E', 'text': 'avoid'}],\n",
       "  'stem': 'The sanctions against the school were a punishing blow, and they seemed to what the efforts the school had made to change?'}}"
      ]
     },
     "metadata": {},
     "execution_count": 8
    }
   ],
   "source": [
    "train_list[0]"
   ]
  },
  {
   "cell_type": "code",
   "execution_count": 4,
   "metadata": {},
   "outputs": [
    {
     "output_type": "stream",
     "name": "stderr",
     "text": [
      "9741it [00:00, 51990.01it/s]\n"
     ]
    }
   ],
   "source": [
    "statement_path = '/home/minju/path_generator/commonsense-qa/data/small_csqa/statement/train.statement.jsonl'\n",
    "statement_list = []\n",
    "\n",
    "with open(statement_path, 'r') as statement:\n",
    "    for line in tqdm(statement):\n",
    "        json_line = json.loads(line)\n",
    "        statement_list.append(json_line)"
   ]
  },
  {
   "cell_type": "code",
   "execution_count": 5,
   "metadata": {},
   "outputs": [
    {
     "output_type": "execute_result",
     "data": {
      "text/plain": [
       "{'answerKey': 'A',\n",
       " 'id': '075e483d21c29a511267ef62bedc0461',\n",
       " 'question': {'question_concept': 'punishing',\n",
       "  'choices': [{'label': 'A', 'text': 'ignore'},\n",
       "   {'label': 'B', 'text': 'enforce'},\n",
       "   {'label': 'C', 'text': 'authoritarian'},\n",
       "   {'label': 'D', 'text': 'yell at'},\n",
       "   {'label': 'E', 'text': 'avoid'}],\n",
       "  'stem': 'The sanctions against the school were a punishing blow, and they seemed to what the efforts the school had made to change?'},\n",
       " 'statements': [{'label': True,\n",
       "   'statement': 'The sanctions against the school were a punishing blow, and they seemed to ignore the efforts the school had made to change.'},\n",
       "  {'label': False,\n",
       "   'statement': 'The sanctions against the school were a punishing blow, and they seemed to enforce the efforts the school had made to change.'},\n",
       "  {'label': False,\n",
       "   'statement': 'The sanctions against the school were a punishing blow, and they seemed to authoritarian the efforts the school had made to change.'},\n",
       "  {'label': False,\n",
       "   'statement': 'The sanctions against the school were a punishing blow, and they seemed to yell at the efforts the school had made to change.'},\n",
       "  {'label': False,\n",
       "   'statement': 'The sanctions against the school were a punishing blow, and they seemed to avoid the efforts the school had made to change.'}]}"
      ]
     },
     "metadata": {},
     "execution_count": 5
    }
   ],
   "source": [
    "statement_list[0]"
   ]
  },
  {
   "cell_type": "code",
   "execution_count": 9,
   "metadata": {},
   "outputs": [
    {
     "output_type": "stream",
     "name": "stderr",
     "text": [
      "48705it [00:00, 101001.03it/s]\n"
     ]
    }
   ],
   "source": [
    "grounded_path = '/home/minju/path_generator/commonsense-qa/data/csqa/grounded/train.grounded.jsonl'\n",
    "grounded_list = []\n",
    "\n",
    "with open(grounded_path, 'r') as grounded:\n",
    "    for line in tqdm(grounded):\n",
    "        json_line = json.loads(line)\n",
    "        grounded_list.append(json_line)"
   ]
  },
  {
   "cell_type": "code",
   "execution_count": 10,
   "metadata": {},
   "outputs": [
    {
     "output_type": "execute_result",
     "data": {
      "text/plain": [
       "{'sent': 'The sanctions against the school were a punishing blow, and they seemed to ignore the efforts the school had made to change.',\n",
       " 'ans': 'ignore',\n",
       " 'qc': ['blow',\n",
       "  'change',\n",
       "  'effort',\n",
       "  'efforts',\n",
       "  'sanction',\n",
       "  'sanctions',\n",
       "  'school',\n",
       "  'seem',\n",
       "  'seemed'],\n",
       " 'ac': ['ignore']}"
      ]
     },
     "metadata": {},
     "execution_count": 10
    }
   ],
   "source": [
    "grounded_list[0]"
   ]
  },
  {
   "cell_type": "code",
   "execution_count": 11,
   "metadata": {},
   "outputs": [
    {
     "output_type": "execute_result",
     "data": {
      "text/plain": [
       "{'sent': 'The sanctions against the school were a punishing blow, and they seemed to enforce the efforts the school had made to change.',\n",
       " 'ans': 'enforce',\n",
       " 'qc': ['blow',\n",
       "  'change',\n",
       "  'effort',\n",
       "  'efforts',\n",
       "  'sanction',\n",
       "  'sanctions',\n",
       "  'school',\n",
       "  'seem',\n",
       "  'seemed'],\n",
       " 'ac': ['enforce']}"
      ]
     },
     "metadata": {},
     "execution_count": 11
    }
   ],
   "source": [
    "grounded_list[1]"
   ]
  },
  {
   "cell_type": "code",
   "execution_count": 12,
   "metadata": {},
   "outputs": [],
   "source": [
    "adj_path = '/home/minju/path_generator/commonsense-qa/data/csqa/graph/train.graph.adj.pk'\n",
    "\n",
    "with open(adj_path, 'rb') as f:\n",
    "    adj_mat = pickle.load(f)"
   ]
  },
  {
   "cell_type": "code",
   "execution_count": 15,
   "metadata": {},
   "outputs": [
    {
     "output_type": "execute_result",
     "data": {
      "text/plain": [
       "(<1224x72 sparse matrix of type '<class 'numpy.uint8'>'\n",
       " \twith 345 stored elements in COOrdinate format>,\n",
       " array([  2373,   2846,   3078,   6008,  37504, 268859, 365229, 398047,\n",
       "        666007,   2929,    295,    313,    579,   1360,   1363,   1415,\n",
       "          1452,   1565,   1746,   2116,   2210,   2411,   2550,   2564,\n",
       "          2843,   2916,   2979,   3082,   3199,   4629,   4695,   4762,\n",
       "          5354,   5926,   6482,   6729,   7116,   7118,   7187,   7337,\n",
       "          8139,   8380,   8789,   9366,   9699,  10015,  10287,  10336,\n",
       "         10652,  11176,  11204,  11310,  11390,  13282,  13297,  15098,\n",
       "         22675,  24516,  29231,  30264,  30298,  30442,  57265,  74303,\n",
       "         74475,  87968,  89878, 107222, 135139, 147497, 346689, 403810],\n",
       "       dtype=int32),\n",
       " array([ True,  True,  True,  True,  True,  True,  True,  True,  True,\n",
       "        False, False, False, False, False, False, False, False, False,\n",
       "        False, False, False, False, False, False, False, False, False,\n",
       "        False, False, False, False, False, False, False, False, False,\n",
       "        False, False, False, False, False, False, False, False, False,\n",
       "        False, False, False, False, False, False, False, False, False,\n",
       "        False, False, False, False, False, False, False, False, False,\n",
       "        False, False, False, False, False, False, False, False, False]),\n",
       " array([False, False, False, False, False, False, False, False, False,\n",
       "         True, False, False, False, False, False, False, False, False,\n",
       "        False, False, False, False, False, False, False, False, False,\n",
       "        False, False, False, False, False, False, False, False, False,\n",
       "        False, False, False, False, False, False, False, False, False,\n",
       "        False, False, False, False, False, False, False, False, False,\n",
       "        False, False, False, False, False, False, False, False, False,\n",
       "        False, False, False, False, False, False, False, False, False]))"
      ]
     },
     "metadata": {},
     "execution_count": 15
    }
   ],
   "source": [
    "adj_mat[0]"
   ]
  },
  {
   "cell_type": "code",
   "execution_count": 16,
   "metadata": {},
   "outputs": [],
   "source": [
    "triple_path = '/home/minju/path_generator/commonsense-qa/data/csqa/triples/train.triples.pk'\n",
    "with open(atriple_path 'rb') as f:\n",
    "    triple = pickle.load(f)"
   ]
  },
  {
   "cell_type": "code",
   "execution_count": 18,
   "metadata": {},
   "outputs": [
    {
     "output_type": "execute_result",
     "data": {
      "text/plain": [
       "(array([15, 15, 15,  0,  0,  0,  0,  0,  0,  0,  0,  1,  1,  1,  2,  5,  5,\n",
       "         5,  5,  5,  5,  5,  5,  5,  5,  5,  7,  7,  7,  7,  7,  7,  7,  7,\n",
       "         7,  7,  7,  7,  7,  7,  7,  7,  7,  7,  7,  7,  7,  7,  7,  7,  7,\n",
       "         7,  7, 15, 15, 15, 15, 15, 15, 15, 15, 15, 15, 15, 15, 15, 15, 15,\n",
       "        15, 15, 15, 15, 15, 15, 15, 15, 15, 15, 15, 15, 15, 15, 15, 15, 15,\n",
       "        15, 15, 15, 15, 15, 15, 15, 15, 15, 15, 15, 15, 15, 15, 15, 15, 15,\n",
       "        15, 15, 15, 15, 15, 15, 15, 15, 15, 15, 15, 15, 15, 15, 15, 15, 15,\n",
       "        15, 15, 15, 15, 15, 15, 15, 15, 15, 15, 15, 15, 15, 15, 15, 15, 15,\n",
       "        15, 15, 15, 15, 15, 15, 15, 15, 15, 15, 15, 15, 15, 15, 15, 15, 16,\n",
       "        16, 16,  0,  0,  0,  0,  0,  0,  0,  1,  3,  5,  5,  5,  5,  5,  5,\n",
       "         5,  5,  5,  7,  7,  7,  7,  7,  7,  7,  7,  7,  7,  7,  7,  7,  7,\n",
       "         7,  7,  7,  7,  7,  7,  7,  7, 10, 15, 15, 15, 15, 15, 15, 15, 15,\n",
       "        15, 15, 15, 15, 15, 15, 15, 15, 15, 15, 15, 15, 15, 15, 15, 15, 15,\n",
       "        15, 15, 15, 15, 15, 15, 15, 15, 15, 15, 15, 15, 15, 15, 15, 15, 15,\n",
       "        15, 15, 15, 15, 15, 15, 15, 15, 15, 15, 15, 15, 15, 15, 15, 15, 15,\n",
       "        15, 15, 15, 15, 15, 15, 15, 15, 15, 15, 15, 15, 15, 15, 15, 15, 15,\n",
       "        15, 15, 15, 15, 15, 15, 15, 15, 15, 15, 15, 15, 15, 15, 15, 15, 15,\n",
       "        15, 15, 15, 15, 15, 15, 15, 15, 15, 15, 15, 15, 15, 15, 15, 15, 15,\n",
       "        15, 15, 15, 15, 15, 15, 15, 15, 15, 15, 15, 15, 15, 15, 15, 15, 15,\n",
       "        15, 15, 15, 15, 15, 15, 15, 15, 15, 15, 15, 15, 15, 15, 15, 15, 15,\n",
       "        15, 15, 16, 16, 16], dtype=int32),\n",
       " array([ 37504, 398047, 666007,   2373,   3078,   3078,   2843,   8789,\n",
       "         10336,  15098,  15098,    579,   2116,   3082,  11310,   2846,\n",
       "          3078,   2550,   6482,   7116,   7118,   8139,  11176,  11310,\n",
       "         29231,  87968,   2373,   2373,   2373,   2373, 365229,   1360,\n",
       "          1415,   1565,   1746,   2550,   2564,   2843,   2979,   4629,\n",
       "          4762,   6729,   7116,   7337,   8380,  10015,  10652,  29231,\n",
       "         30264,  57265,  74303,  89878, 107222,   2373,   2373,   2373,\n",
       "          2373,   2373,   2373,   2373,   2373,   2373,   2373,   2373,\n",
       "          2373,   2373,   2373,   2373,   2373,   2373,   2373,   2373,\n",
       "          2846,   2846,   2846,   2846,   2846,   2846,   2846,   2846,\n",
       "          3078,   3078,   3078,   3078,   3078,   3078,   3078,   6008,\n",
       "          6008,   6008,   6008,   6008,   6008, 268859, 268859, 365229,\n",
       "        365229, 365229,   2929,   1360,   1360,   1363,   1363,   1565,\n",
       "          2116,   2550,   2550,   2916,   2979,   3199,   4629,   5926,\n",
       "          6729,   7116,   7187,   8139,   8139,   8789,  10287,  10287,\n",
       "         10336,  10652,  11176,  11204,  11390,  13282,  13297,  13297,\n",
       "         15098,  22675,  22675,  24516,  24516,  29231,  30264,  30298,\n",
       "         30442,  74303,  74303,  74475,  74475,  87968, 107222, 107222,\n",
       "        135139, 135139, 147497, 147497, 346689, 346689, 403810, 403810,\n",
       "          2846,   2846,   2846,   1565,   2550,   6729,   6729,   6729,\n",
       "          7116,   8789,    579,   8380,   1363,   6482,   6729,   7118,\n",
       "         11204,  13282,  29231,  29231,  87968,    313,   1360,   1360,\n",
       "          1363,   2564,   2979,   6482,   7116,   7187,   8380,   8380,\n",
       "         10287,  10287,  10336,  11204,  13282,  15098,  29231,  29231,\n",
       "         29231,  29231,  89878,  30442,    295,    295,    295,    295,\n",
       "           579,    579,   1360,   1360,   1360,   1360,   1360,   1363,\n",
       "          1363,   1363,   1363,   1363,   1363,   1363,   1363,   1415,\n",
       "          1415,   1415,   1452,   1452,   1565,   1565,   1565,   1565,\n",
       "          1746,   2116,   2210,   2411,   2411,   2411,   2411,   2550,\n",
       "          2550,   2550,   2550,   2564,   2564,   2564,   2564,   2564,\n",
       "          2564,   2843,   2843,   2843,   2916,   2916,   2916,   2979,\n",
       "          3199,   3199,   3199,   4629,   4762,   5926,   5926,   6482,\n",
       "          6482,   6482,   6482,   6482,   6729,   6729,   6729,   6729,\n",
       "          6729,   6729,   7116,   7116,   7116,   7116,   7116,   7116,\n",
       "          7116,   7116,   7116,   7116,   7118,   7118,   7187,   7337,\n",
       "          7337,   7337,   7337,   8139,   8139,   8139,   8380,   8789,\n",
       "          8789,   8789,   8789,   8789,   8789,   8789,  10015,  10287,\n",
       "         10287,  10287,  10336,  10336,  10336,  10652,  10652,  11176,\n",
       "         11176,  11204,  11204,  11204,  11204,  11204,  11204,  11204,\n",
       "         11310,  11390,  13282,  13282,  13282,  13282,  13282,  13282,\n",
       "         13282,  13297,  13297,  13297,  15098,  15098,  15098,  15098,\n",
       "         15098,  15098,  15098,  15098,  15098,  15098,  15098,  22675,\n",
       "         24516,  29231,  30442,  57265, 147497, 147497,   2411,   2916,\n",
       "          8380], dtype=int32),\n",
       " array([  6008, 268859, 365229,   4695,   2916,   3082,   2846,   2929,\n",
       "          2929,   2846,   2929,   2846,   2846,   2846,   3078,   2411,\n",
       "           295,   3078,   6008,   3078,   3078,   6008,   3078, 268859,\n",
       "          2373,   6008,   1452,   7116,   7337,  30298,   1452,   3078,\n",
       "          3078,   3078,   3078,   3078,   3078,   3078,   3078,   3078,\n",
       "          3078,   3078,   3078,   3078,   6008,   6008,   3078,   3078,\n",
       "          3078,   6008,   3078,   3078,   3078,    295,    579,   1415,\n",
       "          1746,   2210,   4762,   5354,   5926,   6482,   7116,   7118,\n",
       "          7187,   9366,   9699,  10287,  11204,  13282,  30264,  30442,\n",
       "          1363,   2210,   4695,   5354,   7337,   9366,  10015,  30442,\n",
       "           295,   2116,   2550,   2916,   7118,   9699,  11390,    295,\n",
       "          2411,   2564,   3199,   5926,  11176,   2411,  13297,    313,\n",
       "         10336,  89878,    313,   2373,   3078,   3078,   6008,   2846,\n",
       "          2846,   2846,   3078,   2846,   2373,   3078, 365229,   6008,\n",
       "          2929,   3078,   3078,   2846,   6008,   2846,   2373, 365229,\n",
       "        365229,   2846,   3078,   2846,   2373,   6008,   2846, 268859,\n",
       "          2846,   2846,   3078,   2846,   3078,   3078,   2373,   6008,\n",
       "          2373,   2846,   3078,   2373,   6008,   2846,   2846,   3078,\n",
       "          3078,   2929,   2846,   6008, 268859,   2929,   2373,   6008,\n",
       "          8380,  10015,  57265,   6729,   2564,   1363,   1565,  11204,\n",
       "          2564,   6729,  11176,  10015,   7116,    295,   1415,    295,\n",
       "           295,   3199,    295,  11176,    295,   4629,   1452,   1565,\n",
       "          1452,   7116,  11204,   7116,  11204,  15098,   8789,  10015,\n",
       "          7337,   8789,   1452,   7116,   7116,   1452,   1452,   7116,\n",
       "         11204,  74475,   7116,   2210,   3199,   6482,   7118,  11176,\n",
       "          2411,   5354,    295,   1363,   1746,   2550,  11176,    295,\n",
       "          1415,   1565,   6729,   7116,   7118,  22675,  89878,    295,\n",
       "          1363,  11176,    295,   7337,    295,   6729,  10652,  15098,\n",
       "          5354,   2210,  11310,    579,   2210,   7118,   7337,    295,\n",
       "          1360,   1565,   5354,    295,   5354,   6482,   7118,   9366,\n",
       "         29231,    295,   1363,  11204,   5354,   8789,   9366,  10287,\n",
       "           295,   2550,  13282,    295,  13282,   5354,   6482,    295,\n",
       "          2411,   5926,   7116,   7118,    295,   1360,   1363,   7116,\n",
       "          7118,  11204,    295,   1363,   1415,   2411,   6482,   7118,\n",
       "          8139,  11176,  11204,  13282,   7116,  11176,   7116,   2916,\n",
       "          5354,   7118,  87968,    295,  11204,  13297,    295,    295,\n",
       "          4629,   5354,   8380,  10015,  10336,  74303,    295,   1360,\n",
       "          6482,  89878,    295,   5354,   7118,  11310,  15098,   7116,\n",
       "          7118,    295,   2550,   5354,   6482,   7337,   9699,  10015,\n",
       "          9699,  10287,    295,   3199,   5354,   5926,   7116,   7118,\n",
       "         11176,    295,   5354,   8139,   1565,   2210,   2916,   5354,\n",
       "          5926,   6482,   6729,   8380,  10015,  10652,  30264,  11310,\n",
       "          4695,   3082,   2210,   6482,    295,   5926,   7116,   3082,\n",
       "         10015], dtype=int32))"
      ]
     },
     "metadata": {},
     "execution_count": 18
    }
   ],
   "source": [
    "triple[0][0]"
   ]
  },
  {
   "cell_type": "code",
   "execution_count": 3,
   "metadata": {},
   "outputs": [
    {
     "output_type": "stream",
     "name": "stderr",
     "text": [
      "48705it [04:03, 200.28it/s]\n"
     ]
    }
   ],
   "source": [
    "path_adj_path = '/home/minju/path_generator/commonsense-qa/data/csqa/paths/train.paths.adj.jsonl'\n",
    "path_adj_list = []\n",
    "\n",
    "with open(path_adj_path, 'r') as path_adj:\n",
    "    for line in tqdm(path_adj):\n",
    "        json_line = json.loads(line)\n",
    "        path_adj_list.append(json_line)"
   ]
  },
  {
   "cell_type": "code",
   "execution_count": 4,
   "metadata": {},
   "outputs": [
    {
     "output_type": "execute_result",
     "data": {
      "text/plain": [
       "[{'ac': 2929,\n",
       "  'qc': 2373,\n",
       "  'pf_res': [{'path': [2373, 295, 6729, 2929], 'rel': [[15], [32], [15]]},\n",
       "   {'path': [2373, 1360, 6729, 2929], 'rel': [[32], [32], [15]]},\n",
       "   {'path': [2373, 295, 8789, 2929], 'rel': [[15], [32], [0]]},\n",
       "   {'path': [2373, 1415, 6729, 2929], 'rel': [[15], [22], [15]]},\n",
       "   {'path': [2373, 295, 10336, 2929], 'rel': [[15], [32], [0]]},\n",
       "   {'path': [2373, 7116, 6729, 2929], 'rel': [[7, 15], [32], [15]]},\n",
       "   {'path': [2373, 7118, 6729, 2929], 'rel': [[15], [32], [15]]},\n",
       "   {'path': [2373, 11204, 6729, 2929], 'rel': [[15], [17, 32], [15]]},\n",
       "   {'path': [2373, 7118, 10336, 2929], 'rel': [[15], [32], [0]]},\n",
       "   {'path': [2373, 5354, 8789, 2929], 'rel': [[15], [32], [0]]},\n",
       "   {'path': [2373, 10287, 8789, 2929], 'rel': [[15, 32], [7], [0]]},\n",
       "   {'path': [2373, 5354, 10336, 2929], 'rel': [[15], [32], [0]]},\n",
       "   {'path': [2373, 1452, 10336, 2929], 'rel': [[7], [24], [0]]},\n",
       "   {'path': [2373, 5354, 15098, 2929], 'rel': [[15], [32], [0]]},\n",
       "   {'path': [2373, 2210, 15098, 2929], 'rel': [[15], [32], [0]]},\n",
       "   {'path': [2373, 1452, 15098, 2929], 'rel': [[7], [24], [0]]},\n",
       "   {'path': [2373, 5926, 15098, 2929], 'rel': [[15], [32], [0]]},\n",
       "   {'path': [2373, 6482, 15098, 2929], 'rel': [[15], [32], [0]]},\n",
       "   {'path': [2373, 7187, 15098, 2929], 'rel': [[15], [7], [0]]},\n",
       "   {'path': [2373, 30264, 15098, 2929], 'rel': [[15, 32], [32], [0]]}]},\n",
       " {'ac': 2929,\n",
       "  'qc': 2846,\n",
       "  'pf_res': [{'path': [2846, 8789, 2929], 'rel': [[32], [0]]},\n",
       "   {'path': [2846, 15098, 2929], 'rel': [[17, 32], [0]]},\n",
       "   {'path': [2846, 8789, 6729, 2929], 'rel': [[32], [0], [15]]},\n",
       "   {'path': [2846, 1363, 6729, 2929], 'rel': [[15], [17, 15, 32], [15]]},\n",
       "   {'path': [2846, 15098, 6729, 2929], 'rel': [[17, 32], [15], [15]]},\n",
       "   {'path': [2846, 8789, 10336, 2929], 'rel': [[32], [15], [0]]},\n",
       "   {'path': [2846, 1565, 6729, 2929], 'rel': [[32], [0, 17, 15], [15]]},\n",
       "   {'path': [2846, 11204, 6729, 2929], 'rel': [[32], [17, 32], [15]]},\n",
       "   {'path': [2846, 1565, 15098, 2929], 'rel': [[32], [15, 32], [0]]},\n",
       "   {'path': [2846, 2916, 8789, 2929], 'rel': [[32], [15], [0]]},\n",
       "   {'path': [2846, 5354, 8789, 2929], 'rel': [[15], [32], [0]]},\n",
       "   {'path': [2846, 2916, 15098, 2929], 'rel': [[32], [32], [0]]},\n",
       "   {'path': [2846, 8380, 8789, 2929], 'rel': [[16], [7, 32], [0]]},\n",
       "   {'path': [2846, 5354, 10336, 2929], 'rel': [[15], [32], [0]]},\n",
       "   {'path': [2846, 10015, 8789, 2929], 'rel': [[15, 16], [32], [0]]},\n",
       "   {'path': [2846, 8380, 15098, 2929], 'rel': [[16], [32], [0]]},\n",
       "   {'path': [2846, 5354, 15098, 2929], 'rel': [[15], [32], [0]]},\n",
       "   {'path': [2846, 74303, 8789, 2929], 'rel': [[32], [32], [0]]},\n",
       "   {'path': [2846, 10015, 15098, 2929], 'rel': [[15, 16], [32], [0]]},\n",
       "   {'path': [2846, 2210, 15098, 2929], 'rel': [[15], [32], [0]]},\n",
       "   {'path': [2846, 10652, 15098, 2929], 'rel': [[32], [15, 32], [0]]}]},\n",
       " {'ac': 2929,\n",
       "  'qc': 3078,\n",
       "  'pf_res': [{'path': [3078, 6729, 2929], 'rel': [[24], [15]]},\n",
       "   {'path': [3078, 135139, 2929], 'rel': [[32], [15]]},\n",
       "   {'path': [3078, 6729, 8789, 2929], 'rel': [[24], [17], [0]]},\n",
       "   {'path': [3078, 4629, 313, 2929], 'rel': [[24], [24], [32]]},\n",
       "   {'path': [3078, 6729, 15098, 2929], 'rel': [[24], [32], [0]]},\n",
       "   {'path': [3078, 295, 6729, 2929], 'rel': [[5, 15], [32], [15]]},\n",
       "   {'path': [3078, 4629, 8789, 2929], 'rel': [[24], [32], [0]]},\n",
       "   {'path': [3078, 1360, 6729, 2929], 'rel': [[24, 32], [32], [15]]},\n",
       "   {'path': [3078, 295, 8789, 2929], 'rel': [[5, 15], [32], [0]]},\n",
       "   {'path': [3078, 1363, 6729, 2929], 'rel': [[32], [17, 15, 32], [15]]},\n",
       "   {'path': [3078, 295, 10336, 2929], 'rel': [[5, 15], [32], [0]]},\n",
       "   {'path': [3078, 1415, 6729, 2929], 'rel': [[24], [22], [15]]},\n",
       "   {'path': [3078, 1565, 6729, 2929], 'rel': [[24], [0, 17, 15], [15]]},\n",
       "   {'path': [3078, 7116, 6729, 2929], 'rel': [[22, 24, 32], [32], [15]]},\n",
       "   {'path': [3078, 1565, 15098, 2929], 'rel': [[24], [15, 32], [0]]},\n",
       "   {'path': [3078, 7118, 6729, 2929], 'rel': [[22, 15], [32], [15]]},\n",
       "   {'path': [3078, 2916, 8789, 2929], 'rel': [[0, 15], [15], [0]]},\n",
       "   {'path': [3078, 7118, 10336, 2929], 'rel': [[22, 15], [32], [0]]},\n",
       "   {'path': [3078, 74303, 8789, 2929], 'rel': [[24, 32], [32], [0]]},\n",
       "   {'path': [3078, 2916, 15098, 2929], 'rel': [[0, 15], [32], [0]]},\n",
       "   {'path': [3078, 7187, 15098, 2929], 'rel': [[32], [7], [0]]},\n",
       "   {'path': [3078, 10652, 15098, 2929], 'rel': [[24], [15, 32], [0]]},\n",
       "   {'path': [3078, 30264, 15098, 2929], 'rel': [[24], [32], [0]]}]},\n",
       " {'ac': 2929,\n",
       "  'qc': 6008,\n",
       "  'pf_res': [{'path': [6008, 295, 6729, 2929], 'rel': [[15], [32], [15]]},\n",
       "   {'path': [6008, 1363, 6729, 2929], 'rel': [[32], [17, 15, 32], [15]]},\n",
       "   {'path': [6008, 295, 8789, 2929], 'rel': [[15], [32], [0]]},\n",
       "   {'path': [6008, 8380, 8789, 2929], 'rel': [[24], [7, 32], [0]]},\n",
       "   {'path': [6008, 295, 10336, 2929], 'rel': [[15], [32], [0]]},\n",
       "   {'path': [6008, 10015, 8789, 2929], 'rel': [[24], [32], [0]]},\n",
       "   {'path': [6008, 8380, 15098, 2929], 'rel': [[24], [32], [0]]},\n",
       "   {'path': [6008, 5926, 15098, 2929], 'rel': [[15, 32], [32], [0]]},\n",
       "   {'path': [6008, 10015, 15098, 2929], 'rel': [[24], [32], [0]]},\n",
       "   {'path': [6008, 6482, 15098, 2929], 'rel': [[22], [32], [0]]}]},\n",
       " {'ac': 2929, 'qc': 37504, 'pf_res': []},\n",
       " {'ac': 2929,\n",
       "  'qc': 268859,\n",
       "  'pf_res': [{'path': [268859, 346689, 2929], 'rel': [[32], [15]]}]},\n",
       " {'ac': 2929,\n",
       "  'qc': 365229,\n",
       "  'pf_res': [{'path': [365229, 313, 2929], 'rel': [[15], [32]]},\n",
       "   {'path': [365229, 10336, 2929], 'rel': [[32, 15], [0]]},\n",
       "   {'path': [365229, 1452, 10336, 2929], 'rel': [[7], [24], [0]]},\n",
       "   {'path': [365229, 10336, 8789, 2929], 'rel': [[32, 15], [32], [0]]},\n",
       "   {'path': [365229, 4629, 313, 2929], 'rel': [[32], [24], [32]]},\n",
       "   {'path': [365229, 1452, 15098, 2929], 'rel': [[7], [24], [0]]},\n",
       "   {'path': [365229, 10287, 8789, 2929], 'rel': [[32], [7], [0]]},\n",
       "   {'path': [365229, 4629, 8789, 2929], 'rel': [[32], [32], [0]]}]},\n",
       " {'ac': 2929,\n",
       "  'qc': 398047,\n",
       "  'pf_res': [{'path': [398047, 268859, 346689, 2929],\n",
       "    'rel': [[15], [32], [15]]}]},\n",
       " {'ac': 2929,\n",
       "  'qc': 666007,\n",
       "  'pf_res': [{'path': [666007, 365229, 313, 2929], 'rel': [[15], [15], [32]]},\n",
       "   {'path': [666007, 365229, 10336, 2929], 'rel': [[15], [32, 15], [0]]}]}]"
      ]
     },
     "metadata": {},
     "execution_count": 4
    }
   ],
   "source": [
    "path_adj_list[0]"
   ]
  },
  {
   "cell_type": "code",
   "execution_count": 5,
   "metadata": {},
   "outputs": [
    {
     "output_type": "error",
     "ename": "SyntaxError",
     "evalue": "invalid syntax (<ipython-input-5-c188e1583a8b>, line 2)",
     "traceback": [
      "\u001b[0;36m  File \u001b[0;32m\"<ipython-input-5-c188e1583a8b>\"\u001b[0;36m, line \u001b[0;32m2\u001b[0m\n\u001b[0;31m    with open(graph_adj_path 'rb') as f:\u001b[0m\n\u001b[0m                                ^\u001b[0m\n\u001b[0;31mSyntaxError\u001b[0m\u001b[0;31m:\u001b[0m invalid syntax\n"
     ]
    }
   ],
   "source": [
    "graph_adj_path = '/home/minju/path_generator/commonsense-qa/data/csqa/graph/train.graph.adj.pk'\n",
    "with open(graph_adj_path 'rb') as f:\n",
    "    graph_adj = pickle.load(f)"
   ]
  },
  {
   "cell_type": "code",
   "execution_count": null,
   "metadata": {},
   "outputs": [],
   "source": []
  }
 ]
}